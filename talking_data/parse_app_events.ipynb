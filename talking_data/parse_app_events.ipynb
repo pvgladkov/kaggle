{
 "cells": [
  {
   "cell_type": "code",
   "execution_count": 1,
   "metadata": {
    "collapsed": true
   },
   "outputs": [],
   "source": [
    "def read_app_ids(path):\n",
    "    print 'start reading dict'\n",
    "    file_read = open(path, 'r')\n",
    "    result = {}\n",
    "    for line in file_read:\n",
    "        items = line.split(',')\n",
    "        result[items[0]] = 0\n",
    "    return result\n",
    "\n",
    "def read_event_id(path):\n",
    "    print 'start reading list'\n",
    "    file_read = open(path, 'r')\n",
    "    result = []\n",
    "    for line in file_read:\n",
    "        result.append(line)\n",
    "    return result"
   ]
  },
  {
   "cell_type": "code",
   "execution_count": 2,
   "metadata": {
    "collapsed": true
   },
   "outputs": [],
   "source": [
    "def init_struct(app_ids, event_ids):\n",
    "    dict = {}\n",
    "    for event_id in event_ids:\n",
    "        dict[event_id] = app_ids.copy()\n",
    "    return dict\n",
    "\n",
    "def file_parse(dict, path):\n",
    "    file_read = open(path, 'r')\n",
    "    i = 0\n",
    "    for line in file_read:\n",
    "        i += 1\n",
    "        items = line.split(',')\n",
    "        dict[items[0]][items[1]] = 1\n",
    "    return dict\n",
    "\n",
    "def print_header(write_file, app_ids):\n",
    "    write_file.write('event_id')\n",
    "    for app_id in app_ids:\n",
    "        write_file.write(',app_id_'+ str(app_id)+'_is_installed')\n",
    "    write_file.write('\\n')\n",
    "    return\n",
    "\n",
    "def struct_to_file(dict, app_ids):\n",
    "    write_file = open('app_events_features.csv', 'w')\n",
    "    print_header(write_file, app_ids)\n",
    "    for key, value in dict.iteritems():\n",
    "        write_file.write(str(key))\n",
    "        for app_id in app_ids:\n",
    "            write_file.write(','+str(value[app_id]))\n",
    "        write_file.write('\\n')\n",
    "    write_file.flush()\n",
    "    write_file.close()\n",
    "    return"
   ]
  },
  {
   "cell_type": "code",
   "execution_count": 3,
   "metadata": {
    "collapsed": false
   },
   "outputs": [
    {
     "name": "stdout",
     "output_type": "stream",
     "text": [
      "start reading dict\n",
      "start reading list\n"
     ]
    }
   ],
   "source": [
    "app_ids = read_app_ids('sorted_dict.csv')\n",
    "event_ids = read_event_id('event_id_list.csv')"
   ]
  },
  {
   "cell_type": "code",
   "execution_count": 4,
   "metadata": {
    "collapsed": false
   },
   "outputs": [
    {
     "ename": "MemoryError",
     "evalue": "",
     "output_type": "error",
     "traceback": [
      "\u001b[1;31m---------------------------------------------------------------------------\u001b[0m",
      "\u001b[1;31mMemoryError\u001b[0m                               Traceback (most recent call last)",
      "\u001b[1;32m<ipython-input-4-bd4b964bf5ff>\u001b[0m in \u001b[0;36m<module>\u001b[1;34m()\u001b[0m\n\u001b[1;32m----> 1\u001b[1;33m \u001b[0mdict\u001b[0m \u001b[1;33m=\u001b[0m \u001b[0minit_struct\u001b[0m\u001b[1;33m(\u001b[0m\u001b[0mapp_ids\u001b[0m\u001b[1;33m,\u001b[0m \u001b[0mevent_ids\u001b[0m\u001b[1;33m)\u001b[0m\u001b[1;33m\u001b[0m\u001b[0m\n\u001b[0m",
      "\u001b[1;32m<ipython-input-2-cdffdd9e4d8c>\u001b[0m in \u001b[0;36minit_struct\u001b[1;34m(app_ids, event_ids)\u001b[0m\n\u001b[0;32m      2\u001b[0m     \u001b[0mdict\u001b[0m \u001b[1;33m=\u001b[0m \u001b[1;33m{\u001b[0m\u001b[1;33m}\u001b[0m\u001b[1;33m\u001b[0m\u001b[0m\n\u001b[0;32m      3\u001b[0m     \u001b[1;32mfor\u001b[0m \u001b[0mevent_id\u001b[0m \u001b[1;32min\u001b[0m \u001b[0mevent_ids\u001b[0m\u001b[1;33m:\u001b[0m\u001b[1;33m\u001b[0m\u001b[0m\n\u001b[1;32m----> 4\u001b[1;33m         \u001b[0mdict\u001b[0m\u001b[1;33m[\u001b[0m\u001b[0mevent_id\u001b[0m\u001b[1;33m]\u001b[0m \u001b[1;33m=\u001b[0m \u001b[0mapp_ids\u001b[0m\u001b[1;33m.\u001b[0m\u001b[0mcopy\u001b[0m\u001b[1;33m(\u001b[0m\u001b[1;33m)\u001b[0m\u001b[1;33m\u001b[0m\u001b[0m\n\u001b[0m\u001b[0;32m      5\u001b[0m     \u001b[1;32mreturn\u001b[0m \u001b[0mdict\u001b[0m\u001b[1;33m\u001b[0m\u001b[0m\n\u001b[0;32m      6\u001b[0m \u001b[1;33m\u001b[0m\u001b[0m\n",
      "\u001b[1;31mMemoryError\u001b[0m: "
     ]
    }
   ],
   "source": [
    "dict = init_struct(app_ids, event_ids)"
   ]
  },
  {
   "cell_type": "code",
   "execution_count": null,
   "metadata": {
    "collapsed": true
   },
   "outputs": [],
   "source": [
    "dict = file_parse(dict, 'app_events.csv')"
   ]
  },
  {
   "cell_type": "code",
   "execution_count": null,
   "metadata": {
    "collapsed": true
   },
   "outputs": [],
   "source": [
    "struct_to_file(dict, app_ids)"
   ]
  },
  {
   "cell_type": "code",
   "execution_count": null,
   "metadata": {
    "collapsed": true
   },
   "outputs": [],
   "source": []
  }
 ],
 "metadata": {
  "kernelspec": {
   "display_name": "Python 2",
   "language": "python",
   "name": "python2"
  },
  "language_info": {
   "codemirror_mode": {
    "name": "ipython",
    "version": 2
   },
   "file_extension": ".py",
   "mimetype": "text/x-python",
   "name": "python",
   "nbconvert_exporter": "python",
   "pygments_lexer": "ipython2",
   "version": "2.7.11"
  }
 },
 "nbformat": 4,
 "nbformat_minor": 0
}
