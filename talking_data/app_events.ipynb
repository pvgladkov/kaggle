{
 "cells": [
  {
   "cell_type": "code",
   "execution_count": null,
   "metadata": {
    "collapsed": true
   },
   "outputs": [],
   "source": [
    "import pandas as pd\n",
    "import numpy as np\n",
    "import scipy.sparse as sp"
   ]
  },
  {
   "cell_type": "code",
   "execution_count": null,
   "metadata": {
    "collapsed": false
   },
   "outputs": [],
   "source": [
    "import os\n",
    "import joblib\n",
    "data_path = '/home/pavel/P/kaggle_data/talking_data'"
   ]
  },
  {
   "cell_type": "code",
   "execution_count": null,
   "metadata": {
    "collapsed": false
   },
   "outputs": [],
   "source": [
    "app_events = pd.read_csv(os.path.join(data_path, 'app_events.csv'), usecols=('is_installed', 'event_id', 'app_id'),\n",
    "                         dtype={'is_installed': np.int8, 'event_id': np.int64, 'app_id': np.int64}, chunksize=1000)"
   ]
  },
  {
   "cell_type": "code",
   "execution_count": null,
   "metadata": {
    "collapsed": true
   },
   "outputs": [],
   "source": [
    "all_apps = joblib.load('all_apps.joblib')"
   ]
  },
  {
   "cell_type": "code",
   "execution_count": null,
   "metadata": {
    "collapsed": true
   },
   "outputs": [],
   "source": [
    "res = sp.csr_matrix((1488096, 19237))\n",
    "events = []"
   ]
  },
  {
   "cell_type": "code",
   "execution_count": null,
   "metadata": {
    "collapsed": false
   },
   "outputs": [],
   "source": [
    "current_event_id = None\n",
    "item = None\n",
    "\n",
    "counter = 0\n",
    "v = None\n",
    "\n",
    "for chunk in app_events:\n",
    "    for row in chunk.values:\n",
    "        event_id, app_id = row[0], row[1]\n",
    "        if current_event_id is None:\n",
    "            current_event_id = event_id\n",
    "            item = dict(zip(all_apps, np.zeros(len(all_apps))))\n",
    "        if current_event_id == event_id:\n",
    "            item[app_id] = 1\n",
    "        else:\n",
    "            v = pd.DataFrame(item.items(), columns=('app', 'is')).set_index('app').T.values[0]\n",
    "            res = sp.vstack([res, v])\n",
    "\n",
    "            current_event_id = event_id\n",
    "            item = dict(zip(all_apps, np.zeros(len(all_apps))))\n",
    "            events.append(current_event_id)\n",
    "        counter += 1\n",
    "\n",
    "        if len(counter) % 50000 == 0:\n",
    "            print counter\n",
    "\n",
    "if item is not None:\n",
    "    v = pd.DataFrame(item.items(), columns=('app', 'is')).set_index('app').T.values[0]\n",
    "    res = sp.hstack([res, v])"
   ]
  },
  {
   "cell_type": "code",
   "execution_count": null,
   "metadata": {
    "collapsed": true
   },
   "outputs": [],
   "source": [
    "joblib.dump(res, 'sparse_app_is_installed')\n",
    "joblib.dump(events, 'events')"
   ]
  }
 ],
 "metadata": {
  "kernelspec": {
   "display_name": "Python 2",
   "language": "python",
   "name": "python2"
  },
  "language_info": {
   "codemirror_mode": {
    "name": "ipython",
    "version": 2
   },
   "file_extension": ".py",
   "mimetype": "text/x-python",
   "name": "python",
   "nbconvert_exporter": "python",
   "pygments_lexer": "ipython2",
   "version": "2.7.6"
  }
 },
 "nbformat": 4,
 "nbformat_minor": 0
}
