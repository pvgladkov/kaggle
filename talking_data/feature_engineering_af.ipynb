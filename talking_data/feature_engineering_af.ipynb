{
 "cells": [
  {
   "cell_type": "code",
   "execution_count": 1,
   "metadata": {
    "collapsed": true
   },
   "outputs": [],
   "source": [
    "import pandas as pd\n",
    "import numpy as np\n",
    "from config import DATA_PATH\n",
    "import os"
   ]
  },
  {
   "cell_type": "code",
   "execution_count": 2,
   "metadata": {
    "collapsed": true
   },
   "outputs": [],
   "source": [
    "data_path = DATA_PATH"
   ]
  },
  {
   "cell_type": "code",
   "execution_count": 3,
   "metadata": {
    "collapsed": false
   },
   "outputs": [],
   "source": [
    "gender_age_train = pd.read_csv(os.path.join(data_path, 'gender_age_train.csv'))\n",
    "events = pd.read_csv(os.path.join(data_path, 'events.csv'))\n",
    "app_events = pd.read_csv(os.path.join(data_path, 'app_events.csv'),\n",
    "                         usecols=('is_installed', 'is_active', 'event_id', 'app_id'),\n",
    "                         dtype={'is_installed': np.int8, 'is_active': np.int8, 'event_id': np.int64, 'app_id': np.int64})"
   ]
  },
  {
   "cell_type": "code",
   "execution_count": 4,
   "metadata": {
    "collapsed": true
   },
   "outputs": [],
   "source": [
    "gender_age_train = gender_age_train.loc[:, ['device_id', 'gender']]\n",
    "events = events.loc[:, ['event_id', 'device_id']]"
   ]
  },
  {
   "cell_type": "code",
   "execution_count": 16,
   "metadata": {
    "collapsed": false
   },
   "outputs": [
    {
     "name": "stdout",
     "output_type": "stream",
     "text": [
      "             device_id gender\n",
      "0 -8076087639492063270      M\n",
      "1 -2897161552818060146      M\n",
      "2 -8260683887967679142      M\n",
      "3 -4938849341048082022      M\n",
      "4   245133531816851882      M\n",
      "#########################\n",
      "   event_id            device_id\n",
      "0         1    29182687948017175\n",
      "1         2 -6401643145415154744\n",
      "2         3 -4833982096941402721\n",
      "3         4 -6815121365017318426\n",
      "4         5 -5373797595892518570\n",
      "#########################\n",
      "(74645, 2)\n",
      "#########################\n",
      "(3252950, 2)\n",
      "#########################\n",
      "(32473067, 4)\n"
     ]
    }
   ],
   "source": [
    "print gender_age_train.head()\n",
    "print '#########################'\n",
    "print events.head()\n",
    "print '#########################'\n",
    "print gender_age_train.shape\n",
    "print '#########################'\n",
    "print events.shape\n",
    "print '#########################'\n",
    "print app_events.shape"
   ]
  },
  {
   "cell_type": "code",
   "execution_count": 14,
   "metadata": {
    "collapsed": false
   },
   "outputs": [
    {
     "name": "stdout",
     "output_type": "stream",
     "text": [
      "   event_id          device_id gender\n",
      "0         1  29182687948017175      M\n",
      "1      7104  29182687948017175      M\n",
      "2     29661  29182687948017175      M\n",
      "3     33133  29182687948017175      M\n",
      "4     38980  29182687948017175      M\n",
      "#########################\n",
      "(1215595, 3)\n"
     ]
    }
   ],
   "source": [
    "events_gender = pd.merge(events, gender_age_train, on='device_id')\n",
    "print events_gender.head()\n",
    "print '#########################'\n",
    "print events_gender.shape"
   ]
  },
  {
   "cell_type": "code",
   "execution_count": 15,
   "metadata": {
    "collapsed": false
   },
   "outputs": [
    {
     "name": "stdout",
     "output_type": "stream",
     "text": [
      "   event_id          device_id gender               app_id  is_installed  \\\n",
      "0     38980  29182687948017175      M  6666573791286858743             1   \n",
      "1     38980  29182687948017175      M  8693964245073640147             1   \n",
      "2     38980  29182687948017175      M  5551704094286985613             1   \n",
      "3     38980  29182687948017175      M  2689721421138748406             1   \n",
      "4     38980  29182687948017175      M  4377590530406372538             1   \n",
      "\n",
      "   is_active  \n",
      "0          1  \n",
      "1          1  \n",
      "2          1  \n",
      "3          1  \n",
      "4          1  \n",
      "#########################\n",
      "(12237197, 6)\n"
     ]
    }
   ],
   "source": [
    "gender_app = pd.merge(events_gender, app_events, on='event_id')\n",
    "print gender_app.head()\n",
    "print '#########################'\n",
    "print gender_app.shape"
   ]
  },
  {
   "cell_type": "code",
   "execution_count": 17,
   "metadata": {
    "collapsed": false
   },
   "outputs": [
    {
     "name": "stdout",
     "output_type": "stream",
     "text": [
      "        device_id\n",
      "gender           \n",
      "F           26741\n",
      "M           47904\n"
     ]
    }
   ],
   "source": [
    "gender_stat = gender_age_train.groupby(['gender']).count().iloc[:,0:1]\n",
    "print gender_stat"
   ]
  },
  {
   "cell_type": "code",
   "execution_count": 29,
   "metadata": {
    "collapsed": false
   },
   "outputs": [
    {
     "name": "stdout",
     "output_type": "stream",
     "text": [
      "                app_id gender  counter\n",
      "0  6666573791286858743      M        1\n",
      "1  8693964245073640147      M        1\n",
      "2  5551704094286985613      M        1\n",
      "3  2689721421138748406      M        1\n",
      "4  4377590530406372538      M        1\n"
     ]
    }
   ],
   "source": [
    "gender_app_short = gender_app.loc[:, ['app_id', 'gender']]\n",
    "gender_app_short['counter'] = pd.Series([1]*len(gender_app_short.index), index=gender_app_short.index)\n",
    "print gender_app_short.head()"
   ]
  },
  {
   "cell_type": "code",
   "execution_count": 32,
   "metadata": {
    "collapsed": false,
    "scrolled": true
   },
   "outputs": [
    {
     "name": "stdout",
     "output_type": "stream",
     "text": [
      "gender                 F   M\n",
      "app_id                      \n",
      "-9221156934682287334  13   3\n",
      "-9220899153371182692   0  14\n",
      "-9218487885271516150   0   2\n",
      "-9218310540360546691   0  20\n",
      "-9217104312935103667   0  38\n"
     ]
    }
   ],
   "source": [
    "gender_app_pivot = gender_app_short.pivot_table(values='counter', index='app_id', columns=['gender'], fill_value=0, aggfunc=np.sum)\n",
    "\n",
    "print gender_app_pivot.head()"
   ]
  },
  {
   "cell_type": "code",
   "execution_count": null,
   "metadata": {
    "collapsed": true
   },
   "outputs": [],
   "source": []
  }
 ],
 "metadata": {
  "kernelspec": {
   "display_name": "Python 2",
   "language": "python",
   "name": "python2"
  },
  "language_info": {
   "codemirror_mode": {
    "name": "ipython",
    "version": 2
   },
   "file_extension": ".py",
   "mimetype": "text/x-python",
   "name": "python",
   "nbconvert_exporter": "python",
   "pygments_lexer": "ipython2",
   "version": "2.7.12"
  }
 },
 "nbformat": 4,
 "nbformat_minor": 0
}
