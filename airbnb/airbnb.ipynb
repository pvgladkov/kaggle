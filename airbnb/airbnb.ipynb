{
 "cells": [
  {
   "cell_type": "code",
   "execution_count": 1,
   "metadata": {
    "collapsed": true
   },
   "outputs": [],
   "source": [
    "import pandas as pd\n",
    "\n",
    "train = pd.read_csv('train_users_2.csv')\n",
    "test = pd.read_csv('test_users.csv')\n",
    "countries = pd.read_csv('countries.csv')\n",
    "sessions = pd.read_csv('sessions.csv')"
   ]
  },
  {
   "cell_type": "code",
   "execution_count": 2,
   "metadata": {
    "collapsed": false
   },
   "outputs": [
    {
     "data": {
      "text/html": [
       "<div style=\"max-height:1000px;max-width:1500px;overflow:auto;\">\n",
       "<table border=\"1\" class=\"dataframe\">\n",
       "  <thead>\n",
       "    <tr style=\"text-align: right;\">\n",
       "      <th></th>\n",
       "      <th>id</th>\n",
       "      <th>date_account_created</th>\n",
       "      <th>timestamp_first_active</th>\n",
       "      <th>date_first_booking</th>\n",
       "      <th>gender</th>\n",
       "      <th>age</th>\n",
       "      <th>signup_method</th>\n",
       "      <th>signup_flow</th>\n",
       "      <th>language</th>\n",
       "      <th>affiliate_channel</th>\n",
       "      <th>affiliate_provider</th>\n",
       "      <th>first_affiliate_tracked</th>\n",
       "      <th>signup_app</th>\n",
       "      <th>first_device_type</th>\n",
       "      <th>first_browser</th>\n",
       "      <th>country_destination</th>\n",
       "    </tr>\n",
       "  </thead>\n",
       "  <tbody>\n",
       "    <tr>\n",
       "      <th>0</th>\n",
       "      <td> gxn3p5htnn</td>\n",
       "      <td> 2010-06-28</td>\n",
       "      <td> 20090319043255</td>\n",
       "      <td>        NaN</td>\n",
       "      <td> -unknown-</td>\n",
       "      <td>NaN</td>\n",
       "      <td> facebook</td>\n",
       "      <td> 0</td>\n",
       "      <td> en</td>\n",
       "      <td> direct</td>\n",
       "      <td> direct</td>\n",
       "      <td> untracked</td>\n",
       "      <td> Web</td>\n",
       "      <td>     Mac Desktop</td>\n",
       "      <td>  Chrome</td>\n",
       "      <td>   NDF</td>\n",
       "    </tr>\n",
       "    <tr>\n",
       "      <th>1</th>\n",
       "      <td> 820tgsjxq7</td>\n",
       "      <td> 2011-05-25</td>\n",
       "      <td> 20090523174809</td>\n",
       "      <td>        NaN</td>\n",
       "      <td>      MALE</td>\n",
       "      <td> 38</td>\n",
       "      <td> facebook</td>\n",
       "      <td> 0</td>\n",
       "      <td> en</td>\n",
       "      <td>    seo</td>\n",
       "      <td> google</td>\n",
       "      <td> untracked</td>\n",
       "      <td> Web</td>\n",
       "      <td>     Mac Desktop</td>\n",
       "      <td>  Chrome</td>\n",
       "      <td>   NDF</td>\n",
       "    </tr>\n",
       "    <tr>\n",
       "      <th>2</th>\n",
       "      <td> 4ft3gnwmtx</td>\n",
       "      <td> 2010-09-28</td>\n",
       "      <td> 20090609231247</td>\n",
       "      <td> 2010-08-02</td>\n",
       "      <td>    FEMALE</td>\n",
       "      <td> 56</td>\n",
       "      <td>    basic</td>\n",
       "      <td> 3</td>\n",
       "      <td> en</td>\n",
       "      <td> direct</td>\n",
       "      <td> direct</td>\n",
       "      <td> untracked</td>\n",
       "      <td> Web</td>\n",
       "      <td> Windows Desktop</td>\n",
       "      <td>      IE</td>\n",
       "      <td>    US</td>\n",
       "    </tr>\n",
       "    <tr>\n",
       "      <th>3</th>\n",
       "      <td> bjjt8pjhuk</td>\n",
       "      <td> 2011-12-05</td>\n",
       "      <td> 20091031060129</td>\n",
       "      <td> 2012-09-08</td>\n",
       "      <td>    FEMALE</td>\n",
       "      <td> 42</td>\n",
       "      <td> facebook</td>\n",
       "      <td> 0</td>\n",
       "      <td> en</td>\n",
       "      <td> direct</td>\n",
       "      <td> direct</td>\n",
       "      <td> untracked</td>\n",
       "      <td> Web</td>\n",
       "      <td>     Mac Desktop</td>\n",
       "      <td> Firefox</td>\n",
       "      <td> other</td>\n",
       "    </tr>\n",
       "    <tr>\n",
       "      <th>4</th>\n",
       "      <td> 87mebub9p4</td>\n",
       "      <td> 2010-09-14</td>\n",
       "      <td> 20091208061105</td>\n",
       "      <td> 2010-02-18</td>\n",
       "      <td> -unknown-</td>\n",
       "      <td> 41</td>\n",
       "      <td>    basic</td>\n",
       "      <td> 0</td>\n",
       "      <td> en</td>\n",
       "      <td> direct</td>\n",
       "      <td> direct</td>\n",
       "      <td> untracked</td>\n",
       "      <td> Web</td>\n",
       "      <td>     Mac Desktop</td>\n",
       "      <td>  Chrome</td>\n",
       "      <td>    US</td>\n",
       "    </tr>\n",
       "  </tbody>\n",
       "</table>\n",
       "</div>"
      ],
      "text/plain": [
       "           id date_account_created  timestamp_first_active date_first_booking  \\\n",
       "0  gxn3p5htnn           2010-06-28          20090319043255                NaN   \n",
       "1  820tgsjxq7           2011-05-25          20090523174809                NaN   \n",
       "2  4ft3gnwmtx           2010-09-28          20090609231247         2010-08-02   \n",
       "3  bjjt8pjhuk           2011-12-05          20091031060129         2012-09-08   \n",
       "4  87mebub9p4           2010-09-14          20091208061105         2010-02-18   \n",
       "\n",
       "      gender  age signup_method  signup_flow language affiliate_channel  \\\n",
       "0  -unknown-  NaN      facebook            0       en            direct   \n",
       "1       MALE   38      facebook            0       en               seo   \n",
       "2     FEMALE   56         basic            3       en            direct   \n",
       "3     FEMALE   42      facebook            0       en            direct   \n",
       "4  -unknown-   41         basic            0       en            direct   \n",
       "\n",
       "  affiliate_provider first_affiliate_tracked signup_app first_device_type  \\\n",
       "0             direct               untracked        Web       Mac Desktop   \n",
       "1             google               untracked        Web       Mac Desktop   \n",
       "2             direct               untracked        Web   Windows Desktop   \n",
       "3             direct               untracked        Web       Mac Desktop   \n",
       "4             direct               untracked        Web       Mac Desktop   \n",
       "\n",
       "  first_browser country_destination  \n",
       "0        Chrome                 NDF  \n",
       "1        Chrome                 NDF  \n",
       "2            IE                  US  \n",
       "3       Firefox               other  \n",
       "4        Chrome                  US  "
      ]
     },
     "execution_count": 2,
     "metadata": {},
     "output_type": "execute_result"
    }
   ],
   "source": [
    "train.head()"
   ]
  },
  {
   "cell_type": "code",
   "execution_count": 3,
   "metadata": {
    "collapsed": false
   },
   "outputs": [
    {
     "data": {
      "text/html": [
       "<div style=\"max-height:1000px;max-width:1500px;overflow:auto;\">\n",
       "<table border=\"1\" class=\"dataframe\">\n",
       "  <thead>\n",
       "    <tr style=\"text-align: right;\">\n",
       "      <th></th>\n",
       "      <th>id</th>\n",
       "      <th>date_account_created</th>\n",
       "      <th>timestamp_first_active</th>\n",
       "      <th>date_first_booking</th>\n",
       "      <th>gender</th>\n",
       "      <th>age</th>\n",
       "      <th>signup_method</th>\n",
       "      <th>signup_flow</th>\n",
       "      <th>language</th>\n",
       "      <th>affiliate_channel</th>\n",
       "      <th>affiliate_provider</th>\n",
       "      <th>first_affiliate_tracked</th>\n",
       "      <th>signup_app</th>\n",
       "      <th>first_device_type</th>\n",
       "      <th>first_browser</th>\n",
       "    </tr>\n",
       "  </thead>\n",
       "  <tbody>\n",
       "    <tr>\n",
       "      <th>0</th>\n",
       "      <td> 5uwns89zht</td>\n",
       "      <td> 2014-07-01</td>\n",
       "      <td> 20140701000006</td>\n",
       "      <td>NaN</td>\n",
       "      <td>    FEMALE</td>\n",
       "      <td> 35</td>\n",
       "      <td> facebook</td>\n",
       "      <td> 0</td>\n",
       "      <td> en</td>\n",
       "      <td> direct</td>\n",
       "      <td> direct</td>\n",
       "      <td> untracked</td>\n",
       "      <td> Moweb</td>\n",
       "      <td>          iPhone</td>\n",
       "      <td> Mobile Safari</td>\n",
       "    </tr>\n",
       "    <tr>\n",
       "      <th>1</th>\n",
       "      <td> jtl0dijy2j</td>\n",
       "      <td> 2014-07-01</td>\n",
       "      <td> 20140701000051</td>\n",
       "      <td>NaN</td>\n",
       "      <td> -unknown-</td>\n",
       "      <td>NaN</td>\n",
       "      <td>    basic</td>\n",
       "      <td> 0</td>\n",
       "      <td> en</td>\n",
       "      <td> direct</td>\n",
       "      <td> direct</td>\n",
       "      <td> untracked</td>\n",
       "      <td> Moweb</td>\n",
       "      <td>          iPhone</td>\n",
       "      <td> Mobile Safari</td>\n",
       "    </tr>\n",
       "    <tr>\n",
       "      <th>2</th>\n",
       "      <td> xx0ulgorjt</td>\n",
       "      <td> 2014-07-01</td>\n",
       "      <td> 20140701000148</td>\n",
       "      <td>NaN</td>\n",
       "      <td> -unknown-</td>\n",
       "      <td>NaN</td>\n",
       "      <td>    basic</td>\n",
       "      <td> 0</td>\n",
       "      <td> en</td>\n",
       "      <td> direct</td>\n",
       "      <td> direct</td>\n",
       "      <td>    linked</td>\n",
       "      <td>   Web</td>\n",
       "      <td> Windows Desktop</td>\n",
       "      <td>        Chrome</td>\n",
       "    </tr>\n",
       "    <tr>\n",
       "      <th>3</th>\n",
       "      <td> 6c6puo6ix0</td>\n",
       "      <td> 2014-07-01</td>\n",
       "      <td> 20140701000215</td>\n",
       "      <td>NaN</td>\n",
       "      <td> -unknown-</td>\n",
       "      <td>NaN</td>\n",
       "      <td>    basic</td>\n",
       "      <td> 0</td>\n",
       "      <td> en</td>\n",
       "      <td> direct</td>\n",
       "      <td> direct</td>\n",
       "      <td>    linked</td>\n",
       "      <td>   Web</td>\n",
       "      <td> Windows Desktop</td>\n",
       "      <td>            IE</td>\n",
       "    </tr>\n",
       "    <tr>\n",
       "      <th>4</th>\n",
       "      <td> czqhjk3yfe</td>\n",
       "      <td> 2014-07-01</td>\n",
       "      <td> 20140701000305</td>\n",
       "      <td>NaN</td>\n",
       "      <td> -unknown-</td>\n",
       "      <td>NaN</td>\n",
       "      <td>    basic</td>\n",
       "      <td> 0</td>\n",
       "      <td> en</td>\n",
       "      <td> direct</td>\n",
       "      <td> direct</td>\n",
       "      <td> untracked</td>\n",
       "      <td>   Web</td>\n",
       "      <td>     Mac Desktop</td>\n",
       "      <td>        Safari</td>\n",
       "    </tr>\n",
       "  </tbody>\n",
       "</table>\n",
       "</div>"
      ],
      "text/plain": [
       "           id date_account_created  timestamp_first_active  \\\n",
       "0  5uwns89zht           2014-07-01          20140701000006   \n",
       "1  jtl0dijy2j           2014-07-01          20140701000051   \n",
       "2  xx0ulgorjt           2014-07-01          20140701000148   \n",
       "3  6c6puo6ix0           2014-07-01          20140701000215   \n",
       "4  czqhjk3yfe           2014-07-01          20140701000305   \n",
       "\n",
       "   date_first_booking     gender  age signup_method  signup_flow language  \\\n",
       "0                 NaN     FEMALE   35      facebook            0       en   \n",
       "1                 NaN  -unknown-  NaN         basic            0       en   \n",
       "2                 NaN  -unknown-  NaN         basic            0       en   \n",
       "3                 NaN  -unknown-  NaN         basic            0       en   \n",
       "4                 NaN  -unknown-  NaN         basic            0       en   \n",
       "\n",
       "  affiliate_channel affiliate_provider first_affiliate_tracked signup_app  \\\n",
       "0            direct             direct               untracked      Moweb   \n",
       "1            direct             direct               untracked      Moweb   \n",
       "2            direct             direct                  linked        Web   \n",
       "3            direct             direct                  linked        Web   \n",
       "4            direct             direct               untracked        Web   \n",
       "\n",
       "  first_device_type  first_browser  \n",
       "0            iPhone  Mobile Safari  \n",
       "1            iPhone  Mobile Safari  \n",
       "2   Windows Desktop         Chrome  \n",
       "3   Windows Desktop             IE  \n",
       "4       Mac Desktop         Safari  "
      ]
     },
     "execution_count": 3,
     "metadata": {},
     "output_type": "execute_result"
    }
   ],
   "source": [
    "test.head()"
   ]
  },
  {
   "cell_type": "code",
   "execution_count": 4,
   "metadata": {
    "collapsed": false
   },
   "outputs": [
    {
     "data": {
      "text/html": [
       "<div style=\"max-height:1000px;max-width:1500px;overflow:auto;\">\n",
       "<table border=\"1\" class=\"dataframe\">\n",
       "  <thead>\n",
       "    <tr style=\"text-align: right;\">\n",
       "      <th></th>\n",
       "      <th>country_destination</th>\n",
       "      <th>lat_destination</th>\n",
       "      <th>lng_destination</th>\n",
       "      <th>distance_km</th>\n",
       "      <th>destination_km2</th>\n",
       "      <th>destination_language </th>\n",
       "      <th>language_levenshtein_distance</th>\n",
       "    </tr>\n",
       "  </thead>\n",
       "  <tbody>\n",
       "    <tr>\n",
       "      <th>0</th>\n",
       "      <td> AU</td>\n",
       "      <td>-26.853388</td>\n",
       "      <td> 133.275160</td>\n",
       "      <td> 15297.7440</td>\n",
       "      <td> 7741220</td>\n",
       "      <td> eng</td>\n",
       "      <td>  0.00</td>\n",
       "    </tr>\n",
       "    <tr>\n",
       "      <th>1</th>\n",
       "      <td> CA</td>\n",
       "      <td> 62.393303</td>\n",
       "      <td> -96.818146</td>\n",
       "      <td>  2828.1333</td>\n",
       "      <td> 9984670</td>\n",
       "      <td> eng</td>\n",
       "      <td>  0.00</td>\n",
       "    </tr>\n",
       "    <tr>\n",
       "      <th>2</th>\n",
       "      <td> DE</td>\n",
       "      <td> 51.165707</td>\n",
       "      <td>  10.452764</td>\n",
       "      <td>  7879.5680</td>\n",
       "      <td>  357022</td>\n",
       "      <td> deu</td>\n",
       "      <td> 72.61</td>\n",
       "    </tr>\n",
       "    <tr>\n",
       "      <th>3</th>\n",
       "      <td> ES</td>\n",
       "      <td> 39.896027</td>\n",
       "      <td>  -2.487694</td>\n",
       "      <td>  7730.7240</td>\n",
       "      <td>  505370</td>\n",
       "      <td> spa</td>\n",
       "      <td> 92.25</td>\n",
       "    </tr>\n",
       "    <tr>\n",
       "      <th>4</th>\n",
       "      <td> FR</td>\n",
       "      <td> 46.232193</td>\n",
       "      <td>   2.209667</td>\n",
       "      <td>  7682.9450</td>\n",
       "      <td>  643801</td>\n",
       "      <td> fra</td>\n",
       "      <td> 92.06</td>\n",
       "    </tr>\n",
       "  </tbody>\n",
       "</table>\n",
       "</div>"
      ],
      "text/plain": [
       "  country_destination  lat_destination  lng_destination  distance_km  \\\n",
       "0                  AU       -26.853388       133.275160   15297.7440   \n",
       "1                  CA        62.393303       -96.818146    2828.1333   \n",
       "2                  DE        51.165707        10.452764    7879.5680   \n",
       "3                  ES        39.896027        -2.487694    7730.7240   \n",
       "4                  FR        46.232193         2.209667    7682.9450   \n",
       "\n",
       "   destination_km2 destination_language   language_levenshtein_distance  \n",
       "0          7741220                   eng                           0.00  \n",
       "1          9984670                   eng                           0.00  \n",
       "2           357022                   deu                          72.61  \n",
       "3           505370                   spa                          92.25  \n",
       "4           643801                   fra                          92.06  "
      ]
     },
     "execution_count": 4,
     "metadata": {},
     "output_type": "execute_result"
    }
   ],
   "source": [
    "countries.head()"
   ]
  },
  {
   "cell_type": "code",
   "execution_count": 5,
   "metadata": {
    "collapsed": false
   },
   "outputs": [
    {
     "data": {
      "text/html": [
       "<div style=\"max-height:1000px;max-width:1500px;overflow:auto;\">\n",
       "<table border=\"1\" class=\"dataframe\">\n",
       "  <thead>\n",
       "    <tr style=\"text-align: right;\">\n",
       "      <th></th>\n",
       "      <th>user_id</th>\n",
       "      <th>action</th>\n",
       "      <th>action_type</th>\n",
       "      <th>action_detail</th>\n",
       "      <th>device_type</th>\n",
       "      <th>secs_elapsed</th>\n",
       "    </tr>\n",
       "  </thead>\n",
       "  <tbody>\n",
       "    <tr>\n",
       "      <th>0</th>\n",
       "      <td> d1mm9tcy42</td>\n",
       "      <td>         lookup</td>\n",
       "      <td>   NaN</td>\n",
       "      <td>                 NaN</td>\n",
       "      <td> Windows Desktop</td>\n",
       "      <td>   319</td>\n",
       "    </tr>\n",
       "    <tr>\n",
       "      <th>1</th>\n",
       "      <td> d1mm9tcy42</td>\n",
       "      <td> search_results</td>\n",
       "      <td> click</td>\n",
       "      <td> view_search_results</td>\n",
       "      <td> Windows Desktop</td>\n",
       "      <td> 67753</td>\n",
       "    </tr>\n",
       "    <tr>\n",
       "      <th>2</th>\n",
       "      <td> d1mm9tcy42</td>\n",
       "      <td>         lookup</td>\n",
       "      <td>   NaN</td>\n",
       "      <td>                 NaN</td>\n",
       "      <td> Windows Desktop</td>\n",
       "      <td>   301</td>\n",
       "    </tr>\n",
       "    <tr>\n",
       "      <th>3</th>\n",
       "      <td> d1mm9tcy42</td>\n",
       "      <td> search_results</td>\n",
       "      <td> click</td>\n",
       "      <td> view_search_results</td>\n",
       "      <td> Windows Desktop</td>\n",
       "      <td> 22141</td>\n",
       "    </tr>\n",
       "    <tr>\n",
       "      <th>4</th>\n",
       "      <td> d1mm9tcy42</td>\n",
       "      <td>         lookup</td>\n",
       "      <td>   NaN</td>\n",
       "      <td>                 NaN</td>\n",
       "      <td> Windows Desktop</td>\n",
       "      <td>   435</td>\n",
       "    </tr>\n",
       "  </tbody>\n",
       "</table>\n",
       "</div>"
      ],
      "text/plain": [
       "      user_id          action action_type        action_detail  \\\n",
       "0  d1mm9tcy42          lookup         NaN                  NaN   \n",
       "1  d1mm9tcy42  search_results       click  view_search_results   \n",
       "2  d1mm9tcy42          lookup         NaN                  NaN   \n",
       "3  d1mm9tcy42  search_results       click  view_search_results   \n",
       "4  d1mm9tcy42          lookup         NaN                  NaN   \n",
       "\n",
       "       device_type  secs_elapsed  \n",
       "0  Windows Desktop           319  \n",
       "1  Windows Desktop         67753  \n",
       "2  Windows Desktop           301  \n",
       "3  Windows Desktop         22141  \n",
       "4  Windows Desktop           435  "
      ]
     },
     "execution_count": 5,
     "metadata": {},
     "output_type": "execute_result"
    }
   ],
   "source": [
    "sessions.head()"
   ]
  },
  {
   "cell_type": "code",
   "execution_count": 6,
   "metadata": {
    "collapsed": false
   },
   "outputs": [],
   "source": [
    "%matplotlib inline\n",
    "import matplotlib.pyplot as plt"
   ]
  },
  {
   "cell_type": "code",
   "execution_count": 7,
   "metadata": {
    "collapsed": false
   },
   "outputs": [
    {
     "data": {
      "text/plain": [
       "<matplotlib.axes.AxesSubplot at 0x7ff0833cce50>"
      ]
     },
     "execution_count": 7,
     "metadata": {},
     "output_type": "execute_result"
    },
    {
     "data": {
      "image/png": "[encoded data removed]",
      "text/plain": [
       "<matplotlib.figure.Figure at 0x7ff07f45f290>"
      ]
     },
     "metadata": {},
     "output_type": "display_data"
    }
   ],
   "source": [
    "# распределение по странам\n",
    "train.pivot_table('id', 'country_destination', aggfunc='count').plot(kind='bar')"
   ]
  },
  {
   "cell_type": "code",
   "execution_count": 8,
   "metadata": {
    "collapsed": false
   },
   "outputs": [
    {
     "data": {
      "text/plain": [
       "<matplotlib.axes.AxesSubplot at 0x7ff07f17ffd0>"
      ]
     },
     "execution_count": 8,
     "metadata": {},
     "output_type": "execute_result"
    },
    {
     "data": {
      "image/png": "[encoded data removed]",
      "text/plain": [
       "<matplotlib.figure.Figure at 0x7ff07f0b0710>"
      ]
     },
     "metadata": {},
     "output_type": "display_data"
    }
   ],
   "source": [
    "# распределение по странам\n",
    "train.pivot_table('id', 'country_destination', 'gender', aggfunc='count').plot(kind='bar', stacked=True)"
   ]
  },
  {
   "cell_type": "code",
   "execution_count": 9,
   "metadata": {
    "collapsed": false
   },
   "outputs": [],
   "source": [
    "# заготовка для результатов\n",
    "result = pd.DataFrame()\n",
    "result['id'] = test.id"
   ]
  },
  {
   "cell_type": "code",
   "execution_count": 10,
   "metadata": {
    "collapsed": true
   },
   "outputs": [],
   "source": [
    "result['country'] = 'NDF' "
   ]
  },
  {
   "cell_type": "code",
   "execution_count": null,
   "metadata": {
    "collapsed": false
   },
   "outputs": [],
   "source": []
  },
  {
   "cell_type": "code",
   "execution_count": 11,
   "metadata": {
    "collapsed": true
   },
   "outputs": [],
   "source": [
    "result.to_csv('ans.csv', index=False)"
   ]
  },
  {
   "cell_type": "code",
   "execution_count": 12,
   "metadata": {
    "collapsed": true
   },
   "outputs": [],
   "source": [
    "# удалим поля\n",
    "drop_fields = ['date_account_created', 'timestamp_first_active', 'date_first_booking', 'signup_method', 'signup_flow',\n",
    "              'affiliate_channel', 'affiliate_provider', 'first_affiliate_tracked', 'signup_app', 'first_device_type',\n",
    "               'first_browser']"
   ]
  },
  {
   "cell_type": "code",
   "execution_count": 13,
   "metadata": {
    "collapsed": false
   },
   "outputs": [],
   "source": [
    "test = test.drop(drop_fields, axis=1)\n",
    "train = train.drop(drop_fields, axis=1)"
   ]
  },
  {
   "cell_type": "code",
   "execution_count": 14,
   "metadata": {
    "collapsed": false
   },
   "outputs": [],
   "source": [
    "# возраст заменяем средним\n",
    "test.age[test.age.isnull()] = test.age.mean()\n",
    "train.age[train.age.isnull()] = train.age.mean()"
   ]
  },
  {
   "cell_type": "code",
   "execution_count": 84,
   "metadata": {
    "collapsed": false
   },
   "outputs": [],
   "source": [
    "# язык заменяем английским\n",
    "test.language[test['language'] == '-unknown-'] = 'en'\n",
    "train.language[train['language'] == '-unknown-'] = 'en'"
   ]
  },
  {
   "cell_type": "code",
   "execution_count": 29,
   "metadata": {
    "collapsed": false
   },
   "outputs": [],
   "source": [
    "gropu = sessions.groupby('user_id')\n",
    "#.sum().sort('secs_elapsed', ascending=False)\n",
    "#[['secs_elapsed']].transform(sum).index"
   ]
  },
  {
   "cell_type": "code",
   "execution_count": null,
   "metadata": {
    "collapsed": true
   },
   "outputs": [],
   "source": [
    "gropu.describe()"
   ]
  },
  {
   "cell_type": "code",
   "execution_count": null,
   "metadata": {
    "collapsed": true
   },
   "outputs": [],
   "source": []
  },
  {
   "cell_type": "code",
   "execution_count": 85,
   "metadata": {
    "collapsed": false
   },
   "outputs": [],
   "source": [
    "from sklearn.preprocessing import LabelEncoder\n",
    "label_gender = LabelEncoder()\n",
    "dicts = {}\n",
    "\n",
    "# кодируем пол \n",
    "label_gender.fit(train.gender.drop_duplicates()) #задаем список значений для кодирования\n",
    "dicts['gender'] = list(label_gender.classes_)\n",
    "train.gender = label_gender.transform(train.gender) #заменяем значения из списка кодами закодированных элементов \n",
    "label_gender.fit(dicts['gender'])\n",
    "test.gender = label_gender.transform(test.gender)\n",
    "\n",
    "# кодируем язык\n",
    "label_language = LabelEncoder()\n",
    "label_language.fit(train.language.drop_duplicates()) #задаем список значений для кодирования\n",
    "dicts['language'] = list(label_language.classes_)\n",
    "train.language = label_language.transform(train.language) #заменяем значения из списка кодами закодированных элементов \n",
    "label_language.fit(dicts['language'])\n",
    "test.language = label_language.transform(test.language)\n"
   ]
  },
  {
   "cell_type": "code",
   "execution_count": 88,
   "metadata": {
    "collapsed": false
   },
   "outputs": [],
   "source": [
    "from sklearn import cross_validation, svm\n",
    "from sklearn.neighbors import KNeighborsClassifier\n",
    "from sklearn.ensemble import RandomForestClassifier\n",
    "from sklearn.linear_model import LogisticRegression\n",
    "from sklearn.metrics import roc_curve, auc\n",
    "import pylab as pl"
   ]
  },
  {
   "cell_type": "code",
   "execution_count": 89,
   "metadata": {
    "collapsed": true
   },
   "outputs": [],
   "source": [
    "train_target = train.country_destination\n",
    "train_features = train.drop(['country_destination', 'id'], axis=1) #из исходных данных убираем Id и страну\n",
    "kfold = 5 #количество подвыборок для валидации\n",
    "itog_val = {} #список для записи результатов кросс валидации разных алгоритмов"
   ]
  },
  {
   "cell_type": "code",
   "execution_count": 90,
   "metadata": {
    "collapsed": true
   },
   "outputs": [],
   "source": [
    "model_rfc = RandomForestClassifier(n_estimators = 80) #в параметре передаем кол-во деревьев\n",
    "model_knc = KNeighborsClassifier(n_neighbors = 18) #в параметре передаем кол-во соседей\n",
    "model_lr = LogisticRegression(penalty='l1', tol=0.01) \n",
    "model_svc = svm.SVC() #по умолчанию kernek='rbf'"
   ]
  },
  {
   "cell_type": "code",
   "execution_count": 91,
   "metadata": {
    "collapsed": true
   },
   "outputs": [],
   "source": [
    "scores = cross_validation.cross_val_score(model_rfc, train_features, train_target, cv = kfold)\n",
    "itog_val['RandomForestClassifier'] = scores.mean()\n",
    "scores = cross_validation.cross_val_score(model_knc, train_features, train_target, cv = kfold)\n",
    "itog_val['KNeighborsClassifier'] = scores.mean()\n",
    "scores = cross_validation.cross_val_score(model_lr, train_features, train_target, cv = kfold)\n",
    "itog_val['LogisticRegression'] = scores.mean()\n",
    "scores = cross_validation.cross_val_score(model_svc, train_features, train_target, cv = kfold)\n",
    "itog_val['SVC'] = scores.mean()"
   ]
  },
  {
   "cell_type": "code",
   "execution_count": 92,
   "metadata": {
    "collapsed": false
   },
   "outputs": [
    {
     "data": {
      "text/plain": [
       "<matplotlib.axes.AxesSubplot at 0x7fd85409c250>"
      ]
     },
     "execution_count": 92,
     "metadata": {},
     "output_type": "execute_result"
    },
    {
     "data": {
      "image/png": "[encoded data removed]",
      "text/plain": [
       "<matplotlib.figure.Figure at 0x7fd859374050>"
      ]
     },
     "metadata": {},
     "output_type": "display_data"
    }
   ],
   "source": [
    "pd.DataFrame.from_dict(data = itog_val, orient='index').plot(kind='bar', legend=False)"
   ]
  },
  {
   "cell_type": "code",
   "execution_count": 93,
   "metadata": {
    "collapsed": true
   },
   "outputs": [],
   "source": [
    "ROCtrainTRN, ROCtestTRN, ROCtrainTRG, ROCtestTRG = cross_validation.train_test_split(train_features, train_target, test_size=0.2) "
   ]
  },
  {
   "cell_type": "code",
   "execution_count": null,
   "metadata": {
    "collapsed": true
   },
   "outputs": [],
   "source": [
    "pl.clf()\n",
    "plt.figure(figsize=(8,6))\n",
    "#SVC\n",
    "model_svc.probability = True\n",
    "probas = model_svc.fit(ROCtrainTRN, ROCtrainTRG).predict_proba(ROCtestTRN)\n",
    "fpr, tpr, thresholds = roc_curve(ROCtestTRG, probas[:, 1])\n",
    "roc_auc  = auc(fpr, tpr)\n",
    "pl.plot(fpr, tpr, label='%s ROC (area = %0.2f)' % ('SVC', roc_auc))\n",
    "#RandomForestClassifier\n",
    "probas = model_rfc.fit(ROCtrainTRN, ROCtrainTRG).predict_proba(ROCtestTRN)\n",
    "fpr, tpr, thresholds = roc_curve(ROCtestTRG, probas[:, 1])\n",
    "roc_auc  = auc(fpr, tpr)\n",
    "pl.plot(fpr, tpr, label='%s ROC (area = %0.2f)' % ('RandonForest',roc_auc))\n",
    "#KNeighborsClassifier\n",
    "probas = model_knc.fit(ROCtrainTRN, ROCtrainTRG).predict_proba(ROCtestTRN)\n",
    "fpr, tpr, thresholds = roc_curve(ROCtestTRG, probas[:, 1])\n",
    "roc_auc  = auc(fpr, tpr)\n",
    "pl.plot(fpr, tpr, label='%s ROC (area = %0.2f)' % ('KNeighborsClassifier',roc_auc))\n",
    "#LogisticRegression\n",
    "probas = model_lr.fit(ROCtrainTRN, ROCtrainTRG).predict_proba(ROCtestTRN)\n",
    "fpr, tpr, thresholds = roc_curve(ROCtestTRG, probas[:, 1])\n",
    "roc_auc  = auc(fpr, tpr)\n",
    "pl.plot(fpr, tpr, label='%s ROC (area = %0.2f)' % ('LogisticRegression',roc_auc))\n",
    "pl.plot([0, 1], [0, 1], 'k--')\n",
    "pl.xlim([0.0, 1.0])\n",
    "pl.ylim([0.0, 1.0])\n",
    "pl.xlabel('False Positive Rate')\n",
    "pl.ylabel('True Positive Rate')\n",
    "pl.legend(loc=0, fontsize='small')\n",
    "pl.show()"
   ]
  },
  {
   "cell_type": "code",
   "execution_count": null,
   "metadata": {
    "collapsed": true
   },
   "outputs": [],
   "source": []
  }
 ],
 "metadata": {
  "kernelspec": {
   "display_name": "Python 2",
   "language": "python",
   "name": "python2"
  },
  "language_info": {
   "name": "python",
   "version": "2.7.6"
  }
 },
 "nbformat": 4,
 "nbformat_minor": 0
}
