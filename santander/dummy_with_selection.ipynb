{
 "cells": [
  {
   "cell_type": "code",
   "execution_count": 1,
   "metadata": {
    "collapsed": false
   },
   "outputs": [
    {
     "name": "stderr",
     "output_type": "stream",
     "text": [
      "/usr/local/lib/python2.7/dist-packages/sklearn/cross_validation.py:42: DeprecationWarning: This module has been deprecated in favor of the model_selection module into which all the refactored classes and functions are moved. Also note that the interface of the new CV iterators are different from that of this module. This module will be removed in 0.20.\n",
      "  \"This module will be removed in 0.20.\", DeprecationWarning)\n"
     ]
    }
   ],
   "source": [
    "import pandas as pd\n",
    "import numpy as np\n",
    "\n",
    "from sklearn.cross_validation import train_test_split, ShuffleSplit, StratifiedKFold\n",
    "from sklearn.metrics import roc_auc_score\n",
    "from sklearn.ensemble import ExtraTreesClassifier\n",
    "from sklearn.feature_selection import SelectFromModel\n",
    "\n",
    "import xgboost as xgb\n",
    "import matplotlib.pyplot as plt\n",
    "\n",
    "%matplotlib inline"
   ]
  },
  {
   "cell_type": "code",
   "execution_count": 2,
   "metadata": {
    "collapsed": false
   },
   "outputs": [],
   "source": [
    "train = pd.read_csv(\"train.csv\")\n",
    "test = pd.read_csv(\"test.csv\")\n",
    "\n",
    "\n",
    "remove = []\n",
    "for col in train.columns:\n",
    "    if train[col].std() == 0:\n",
    "        remove.append(col)\n",
    "\n",
    "train.drop(remove, axis=1, inplace=True)\n",
    "test.drop(remove, axis=1, inplace=True)"
   ]
  },
  {
   "cell_type": "code",
   "execution_count": 3,
   "metadata": {
    "collapsed": false
   },
   "outputs": [],
   "source": [
    "remove = []\n",
    "cols = train.columns\n",
    "for i in range(len(cols)-1):\n",
    "    v = train[cols[i]].values\n",
    "    for j in range(i+1,len(cols)):\n",
    "        if np.array_equal(v,train[cols[j]].values):\n",
    "            remove.append(cols[j])\n",
    "\n",
    "train.drop(remove, axis=1, inplace=True)\n",
    "test.drop(remove, axis=1, inplace=True)"
   ]
  },
  {
   "cell_type": "code",
   "execution_count": 4,
   "metadata": {
    "collapsed": false
   },
   "outputs": [],
   "source": [
    "test_id = test.ID\n",
    "test = test.drop([\"ID\"],axis=1)\n",
    "\n",
    "X = train.drop([\"TARGET\",\"ID\"],axis=1)\n",
    "y = train.TARGET.values"
   ]
  },
  {
   "cell_type": "code",
   "execution_count": 5,
   "metadata": {
    "collapsed": true
   },
   "outputs": [],
   "source": [
    "# bi_columns = ['num_var1_0', 'num_var1', 'num_var4', 'num_var5_0', 'num_var5',\n",
    "#        'num_var8_0', 'num_var12', 'num_var13_0', 'num_var13_corto_0',\n",
    "#        'num_var13_corto', 'num_var14', 'num_var24_0', 'num_var24',\n",
    "#        'num_var32_0', 'num_var33_0', 'num_var40_0', 'num_var42',\n",
    "#        'num_var44_0', 'num_sal_var16_ult1', 'num_var13_largo_0', 'num_var13', 'num_var33']\n",
    "\n",
    "_d_df = X.describe().transpose()\n",
    "cols = _d_df[(_d_df['max'] < 20) & (_d_df['max'] > 3)].index\n",
    "for _c in cols:\n",
    "    new_column_name = 'bi_'+_c\n",
    "    X[new_column_name] = 0\n",
    "    test[new_column_name] = 0\n",
    "    \n",
    "    X.loc[X[_c] > 0, new_column_name] = 1\n",
    "    test.loc[test[_c] > 0, new_column_name] = 1\n",
    "\n",
    "X = X.drop(cols, axis=1)\n",
    "test = test.drop(cols, axis=1)"
   ]
  },
  {
   "cell_type": "code",
   "execution_count": 6,
   "metadata": {
    "collapsed": false
   },
   "outputs": [],
   "source": [
    "X['var38mc'] = np.isclose(X.var38, 117310.979016)\n",
    "X['logvar38'] = X.loc[~X['var38mc'], 'var38'].map(np.log)\n",
    "X.loc[X['var38mc'], 'logvar38'] = 0\n",
    "\n",
    "test['var38mc'] = np.isclose(test.var38, 117310.979016)\n",
    "test['logvar38'] = test.loc[~test['var38mc'], 'var38'].map(np.log)\n",
    "test.loc[test['var38mc'], 'logvar38'] = 0"
   ]
  },
  {
   "cell_type": "code",
   "execution_count": 7,
   "metadata": {
    "collapsed": true
   },
   "outputs": [],
   "source": [
    "X = X.drop(['var38'], axis=1)\n",
    "test = test.drop(['var38'], axis=1)"
   ]
  },
  {
   "cell_type": "code",
   "execution_count": 8,
   "metadata": {
    "collapsed": true
   },
   "outputs": [],
   "source": [
    "for f in X.columns:\n",
    "    lim_min = np.min(X[f])\n",
    "    test[test[f]<lim_min] = lim_min\n",
    "  \n",
    "    lim_max = np.max(X[f])\n",
    "    test[test[f]>lim_max] = lim_max "
   ]
  },
  {
   "cell_type": "code",
   "execution_count": 9,
   "metadata": {
    "collapsed": true
   },
   "outputs": [],
   "source": [
    "# for f in X.columns:\n",
    "#     if np.max(X[f]) > 1000000 and np.min(X[f]) > 0:\n",
    "#         X['log'+f] = X[f].map(np.log)\n",
    "#         test['log'+f] = test[f].map(np.log)"
   ]
  },
  {
   "cell_type": "code",
   "execution_count": 10,
   "metadata": {
    "collapsed": false
   },
   "outputs": [],
   "source": [
    "X['log_saldo_medio_var5_hace3'] = X.loc[X['saldo_medio_var5_hace3']>0, 'saldo_medio_var5_hace3'].map(np.log)\n",
    "X.loc[X['saldo_medio_var5_hace3']<=0, 'log_saldo_medio_var5_hace3'] = 0\n",
    "\n",
    "test['log_saldo_medio_var5_hace3'] = test.loc[test['saldo_medio_var5_hace3']>0, 'saldo_medio_var5_hace3'].map(np.log)\n",
    "test.loc[test['saldo_medio_var5_hace3']<=0, 'log_saldo_medio_var5_hace3'] = 0"
   ]
  },
  {
   "cell_type": "code",
   "execution_count": 11,
   "metadata": {
    "collapsed": true
   },
   "outputs": [],
   "source": [
    "from sklearn.preprocessing import normalize\n",
    "from sklearn.decomposition import PCA\n",
    "\n",
    "features = X.columns[1:-1]\n",
    "pca = PCA(n_components=2)\n",
    "\n",
    "x_train_projected = pca.fit_transform(normalize(X[features], axis=0))\n",
    "x_test_projected = pca.transform(normalize(test[features], axis=0))\n",
    "\n",
    "X.insert(1, 'PCAOne', x_train_projected[:, 0])\n",
    "X.insert(1, 'PCATwo', x_train_projected[:, 1])\n",
    "test.insert(1, 'PCAOne', x_test_projected[:, 0])\n",
    "test.insert(1, 'PCATwo', x_test_projected[:, 1])"
   ]
  },
  {
   "cell_type": "code",
   "execution_count": 12,
   "metadata": {
    "collapsed": false
   },
   "outputs": [],
   "source": [
    "features = X.columns[1:-1]\n",
    "X.insert(1, 'SumZeros', (X[features] == 0).astype(int).sum(axis=1))\n",
    "test.insert(1, 'SumZeros', (test[features] == 0).astype(int).sum(axis=1))"
   ]
  },
  {
   "cell_type": "code",
   "execution_count": 13,
   "metadata": {
    "collapsed": false
   },
   "outputs": [],
   "source": [
    "clf = ExtraTreesClassifier(random_state=1234)\n",
    "selector = clf.fit(X, y)"
   ]
  },
  {
   "cell_type": "code",
   "execution_count": 14,
   "metadata": {
    "collapsed": false
   },
   "outputs": [
    {
     "data": {
      "image/png": "[encoded data removed]",
      "text/plain": [
       "<matplotlib.figure.Figure at 0x7f2cbb9a80d0>"
      ]
     },
     "metadata": {},
     "output_type": "display_data"
    }
   ],
   "source": [
    "feat_imp = pd.Series(clf.feature_importances_, index = X.columns.values).sort_values(ascending=False)\n",
    "feat_imp[:40].plot(kind='bar', title='Feature Importances according to ExtraTreesClassifier', figsize=(12, 8))\n",
    "plt.ylabel('Feature Importance Score')\n",
    "plt.subplots_adjust(bottom=0.3)\n",
    "plt.show()"
   ]
  },
  {
   "cell_type": "code",
   "execution_count": 15,
   "metadata": {
    "collapsed": false
   },
   "outputs": [
    {
     "name": "stdout",
     "output_type": "stream",
     "text": [
      "((76020, 198), (75818, 198))\n"
     ]
    }
   ],
   "source": [
    "fs = SelectFromModel(selector, prefit=True, threshold=0.00002)\n",
    "\n",
    "X_select = fs.transform(X)\n",
    "test_select = fs.transform(test)\n",
    "\n",
    "print(X_select.shape, test_select.shape)"
   ]
  },
  {
   "cell_type": "code",
   "execution_count": 16,
   "metadata": {
    "collapsed": false
   },
   "outputs": [],
   "source": [
    "feature_count = 204\n",
    "\n",
    "# но отберем руками\n",
    "not_important = filter(lambda x: x not in feat_imp[:feature_count].index, X.columns)\n",
    "important = filter(lambda x: x in feat_imp[:feature_count].index, X.columns)\n",
    "\n",
    "X_select = X.drop(not_important, axis=1).values\n",
    "test_select = test.drop(not_important, axis=1).values"
   ]
  },
  {
   "cell_type": "code",
   "execution_count": 17,
   "metadata": {
    "collapsed": false
   },
   "outputs": [
    {
     "data": {
      "text/html": [
       "<div style=\"max-width:1500px;overflow:auto;\">\n",
       "<table border=\"1\" class=\"dataframe\">\n",
       "  <thead>\n",
       "    <tr style=\"text-align: right;\">\n",
       "      <th></th>\n",
       "      <th>logvar38</th>\n",
       "      <th>PCATwo</th>\n",
       "      <th>PCAOne</th>\n",
       "      <th>var15</th>\n",
       "      <th>log_saldo_medio_var5_hace3</th>\n",
       "      <th>saldo_medio_var5_ult3</th>\n",
       "      <th>saldo_medio_var5_hace3</th>\n",
       "      <th>num_var45_ult3</th>\n",
       "      <th>SumZeros</th>\n",
       "      <th>num_var45_hace3</th>\n",
       "    </tr>\n",
       "  </thead>\n",
       "  <tbody>\n",
       "    <tr>\n",
       "      <th>count</th>\n",
       "      <td>76020.000000</td>\n",
       "      <td>7.602000e+04</td>\n",
       "      <td>7.602000e+04</td>\n",
       "      <td>76020.000000</td>\n",
       "      <td>76020.000000</td>\n",
       "      <td>76020.000000</td>\n",
       "      <td>7.602000e+04</td>\n",
       "      <td>76020.000000</td>\n",
       "      <td>76020.000000</td>\n",
       "      <td>76020.000000</td>\n",
       "    </tr>\n",
       "    <tr>\n",
       "      <th>mean</th>\n",
       "      <td>9.199169</td>\n",
       "      <td>-1.044519e-17</td>\n",
       "      <td>-2.022011e-16</td>\n",
       "      <td>33.212865</td>\n",
       "      <td>1.416458</td>\n",
       "      <td>1048.856447</td>\n",
       "      <td>8.913659e+02</td>\n",
       "      <td>13.651105</td>\n",
       "      <td>273.664128</td>\n",
       "      <td>3.894396</td>\n",
       "    </tr>\n",
       "    <tr>\n",
       "      <th>std</th>\n",
       "      <td>4.569727</td>\n",
       "      <td>1.428682e-02</td>\n",
       "      <td>1.700207e-02</td>\n",
       "      <td>12.956486</td>\n",
       "      <td>2.512596</td>\n",
       "      <td>8189.948852</td>\n",
       "      <td>9.888597e+03</td>\n",
       "      <td>33.304012</td>\n",
       "      <td>17.345697</td>\n",
       "      <td>10.416821</td>\n",
       "    </tr>\n",
       "    <tr>\n",
       "      <th>min</th>\n",
       "      <td>0.000000</td>\n",
       "      <td>-4.041161e-01</td>\n",
       "      <td>-7.852580e-03</td>\n",
       "      <td>5.000000</td>\n",
       "      <td>-3.506558</td>\n",
       "      <td>-476.070000</td>\n",
       "      <td>-8.040000e+00</td>\n",
       "      <td>0.000000</td>\n",
       "      <td>165.000000</td>\n",
       "      <td>0.000000</td>\n",
       "    </tr>\n",
       "    <tr>\n",
       "      <th>25%</th>\n",
       "      <td>10.602061</td>\n",
       "      <td>3.073861e-03</td>\n",
       "      <td>-6.885568e-03</td>\n",
       "      <td>23.000000</td>\n",
       "      <td>0.000000</td>\n",
       "      <td>0.000000</td>\n",
       "      <td>0.000000e+00</td>\n",
       "      <td>0.000000</td>\n",
       "      <td>263.000000</td>\n",
       "      <td>0.000000</td>\n",
       "    </tr>\n",
       "    <tr>\n",
       "      <th>50%</th>\n",
       "      <td>11.221319</td>\n",
       "      <td>3.459086e-03</td>\n",
       "      <td>-6.521589e-03</td>\n",
       "      <td>28.000000</td>\n",
       "      <td>0.000000</td>\n",
       "      <td>2.730000</td>\n",
       "      <td>9.900000e-01</td>\n",
       "      <td>0.000000</td>\n",
       "      <td>278.000000</td>\n",
       "      <td>0.000000</td>\n",
       "    </tr>\n",
       "    <tr>\n",
       "      <th>75%</th>\n",
       "      <td>11.684828</td>\n",
       "      <td>4.063937e-03</td>\n",
       "      <td>-8.265071e-04</td>\n",
       "      <td>40.000000</td>\n",
       "      <td>2.502869</td>\n",
       "      <td>83.790000</td>\n",
       "      <td>1.221750e+01</td>\n",
       "      <td>12.000000</td>\n",
       "      <td>286.000000</td>\n",
       "      <td>3.000000</td>\n",
       "    </tr>\n",
       "    <tr>\n",
       "      <th>max</th>\n",
       "      <td>16.908131</td>\n",
       "      <td>8.343805e-02</td>\n",
       "      <td>3.167478e-01</td>\n",
       "      <td>105.000000</td>\n",
       "      <td>14.248811</td>\n",
       "      <td>544365.570000</td>\n",
       "      <td>1.542339e+06</td>\n",
       "      <td>801.000000</td>\n",
       "      <td>299.000000</td>\n",
       "      <td>339.000000</td>\n",
       "    </tr>\n",
       "  </tbody>\n",
       "</table>\n",
       "</div>"
      ],
      "text/plain": [
       "           logvar38        PCATwo        PCAOne         var15  \\\n",
       "count  76020.000000  7.602000e+04  7.602000e+04  76020.000000   \n",
       "mean       9.199169 -1.044519e-17 -2.022011e-16     33.212865   \n",
       "std        4.569727  1.428682e-02  1.700207e-02     12.956486   \n",
       "min        0.000000 -4.041161e-01 -7.852580e-03      5.000000   \n",
       "25%       10.602061  3.073861e-03 -6.885568e-03     23.000000   \n",
       "50%       11.221319  3.459086e-03 -6.521589e-03     28.000000   \n",
       "75%       11.684828  4.063937e-03 -8.265071e-04     40.000000   \n",
       "max       16.908131  8.343805e-02  3.167478e-01    105.000000   \n",
       "\n",
       "       log_saldo_medio_var5_hace3  saldo_medio_var5_ult3  \\\n",
       "count                76020.000000           76020.000000   \n",
       "mean                     1.416458            1048.856447   \n",
       "std                      2.512596            8189.948852   \n",
       "min                     -3.506558            -476.070000   \n",
       "25%                      0.000000               0.000000   \n",
       "50%                      0.000000               2.730000   \n",
       "75%                      2.502869              83.790000   \n",
       "max                     14.248811          544365.570000   \n",
       "\n",
       "       saldo_medio_var5_hace3  num_var45_ult3      SumZeros  num_var45_hace3  \n",
       "count            7.602000e+04    76020.000000  76020.000000     76020.000000  \n",
       "mean             8.913659e+02       13.651105    273.664128         3.894396  \n",
       "std              9.888597e+03       33.304012     17.345697        10.416821  \n",
       "min             -8.040000e+00        0.000000    165.000000         0.000000  \n",
       "25%              0.000000e+00        0.000000    263.000000         0.000000  \n",
       "50%              9.900000e-01        0.000000    278.000000         0.000000  \n",
       "75%              1.221750e+01       12.000000    286.000000         3.000000  \n",
       "max              1.542339e+06      801.000000    299.000000       339.000000  "
      ]
     },
     "execution_count": 17,
     "metadata": {},
     "output_type": "execute_result"
    }
   ],
   "source": [
    "# топ-10 фич\n",
    "X[feat_imp[:10].index].describe()"
   ]
  },
  {
   "cell_type": "code",
   "execution_count": 18,
   "metadata": {
    "collapsed": false
   },
   "outputs": [],
   "source": [
    "# num_var4"
   ]
  },
  {
   "cell_type": "code",
   "execution_count": 19,
   "metadata": {
    "collapsed": true
   },
   "outputs": [],
   "source": [
    "# xgb.XGBClassifier(n_estimators=100, nthread=-1, max_depth = 4, seed=1234,\n",
    "#                            learning_rate=0.05, subsample = 0.6815, colsample_bytree = 0.701)\n",
    "fxgb = lambda: xgb.XGBClassifier(n_estimators=100, nthread=-1, max_depth = 4, seed=1234,\n",
    "                           learning_rate=0.05, subsample = 0.7, colsample_bytree = 0.701)\n",
    "\n",
    "fxgb1 = lambda: xgb.XGBClassifier(n_estimators=100, nthread=-1, max_depth = 4, seed=1234,\n",
    "                       learning_rate=0.05, subsample = 0.7, colsample_bytree = 0.701)\n",
    "fxgb2 = lambda: xgb.XGBClassifier(n_estimators=80, nthread=-1, max_depth = 6, seed=1234,\n",
    "                       learning_rate=0.05, subsample = 0.7, colsample_bytree = 0.701)\n",
    "fxgb3 = lambda: xgb.XGBClassifier(n_estimators=120, nthread=-1, max_depth = 5, seed=1234,\n",
    "                       learning_rate=0.1, subsample = 1, colsample_bytree = 0.701)"
   ]
  },
  {
   "cell_type": "code",
   "execution_count": 24,
   "metadata": {
    "collapsed": true
   },
   "outputs": [],
   "source": [
    "def model_score(model_name, train, target):\n",
    "    \"\"\"\n",
    "    train: np.Array\n",
    "    \"\"\"    \n",
    "    skf = StratifiedKFold(target, n_folds=4, random_state=1234)\n",
    "    scores = []\n",
    "    \n",
    "    for train_index, test_index in skf:\n",
    "\n",
    "        if model_name == 'xgb':\n",
    "            model = fxgb()\n",
    "        else:\n",
    "            raise Exception('invalid model')\n",
    "        \n",
    "        ROCtrainTRN, ROCtestTRN = train[train_index], train[test_index]\n",
    "        ROCtrainTRG, ROCtestTRG = target[train_index], target[test_index]\n",
    "\n",
    "        model.fit(ROCtrainTRN, ROCtrainTRG)\n",
    "        probas = model.predict_proba(ROCtestTRN)\n",
    "        _score = roc_auc_score(ROCtestTRG, probas[:,1], average='macro')\n",
    "        print(\"Roc AUC: {}\".format(_score))\n",
    "        scores.append(_score)\n",
    "        \n",
    "    return np.array(scores).mean()"
   ]
  },
  {
   "cell_type": "code",
   "execution_count": 27,
   "metadata": {
    "collapsed": true
   },
   "outputs": [],
   "source": [
    "def ensembly_score(train, target):\n",
    "    skf = StratifiedKFold(target, n_folds=4, random_state=1234)\n",
    "    scores = []\n",
    "    for train_index, test_index in skf:\n",
    "        models = [fxgb1(), fxgb2(), fxgb3()]\n",
    "        ROCtrainTRN, ROCtestTRN = train[train_index], train[test_index]\n",
    "        ROCtrainTRG, ROCtestTRG = target[train_index], target[test_index]\n",
    "        results = None\n",
    "        for model in models:\n",
    "            model.fit(ROCtrainTRN, ROCtrainTRG)\n",
    "            probas = model.predict_proba(ROCtestTRN)\n",
    "            if results is None:\n",
    "                results = probas[:,1]\n",
    "            else:\n",
    "                results = np.column_stack([probas[:,1], results])\n",
    "        probas = np.mean(results, axis=1)\n",
    "        _score = roc_auc_score(ROCtestTRG, probas, average='macro')\n",
    "        print(\"Roc AUC: {}\".format(_score))\n",
    "        scores.append(_score)\n",
    "    return np.array(scores).mean()"
   ]
  },
  {
   "cell_type": "code",
   "execution_count": 28,
   "metadata": {
    "collapsed": false
   },
   "outputs": [
    {
     "name": "stdout",
     "output_type": "stream",
     "text": [
      "Roc AUC: 0.83151662041\n",
      "Roc AUC: 0.837008285435\n",
      "Roc AUC: 0.848177500114\n",
      "Roc AUC: 0.84200054261\n",
      "0.839675737142\n"
     ]
    }
   ],
   "source": [
    "# 0.837782486756\n",
    "# 0.839675737142 0.837590\n",
    "print(ensembly_score(X.values, y))"
   ]
  },
  {
   "cell_type": "code",
   "execution_count": 29,
   "metadata": {
    "collapsed": false
   },
   "outputs": [
    {
     "name": "stdout",
     "output_type": "stream",
     "text": [
      "Roc AUC: 0.829806030137\n",
      "Roc AUC: 0.835252089135\n",
      "Roc AUC: 0.846328161153\n",
      "Roc AUC: 0.84036885222\n",
      "0.837938783161\n"
     ]
    }
   ],
   "source": [
    "# 0.837887097022 0.835513\n",
    "print(model_score('xgb', X.values, y))"
   ]
  },
  {
   "cell_type": "code",
   "execution_count": null,
   "metadata": {
    "collapsed": false
   },
   "outputs": [],
   "source": [
    "# 0.828082874938 \n",
    "# print(model_score('xgb', fs.transform(X), y))"
   ]
  },
  {
   "cell_type": "code",
   "execution_count": null,
   "metadata": {
    "collapsed": false
   },
   "outputs": [],
   "source": [
    "# xgb_model = fxgb()\n",
    "# xgb_model.fit(X.values, y)\n",
    "# probs = xgb_model.predict_proba(test.values)\n",
    "# pred = probs[:,1]"
   ]
  },
  {
   "cell_type": "code",
   "execution_count": 30,
   "metadata": {
    "collapsed": true
   },
   "outputs": [],
   "source": [
    "models = [fxgb1(), fxgb2(), fxgb3()]\n",
    "results = None\n",
    "for model in models:\n",
    "    model.fit(X.values, y)\n",
    "    probas = model.predict_proba(test.values)\n",
    "    if results is None:\n",
    "        results = probas[:,1]\n",
    "    else:\n",
    "        results = np.column_stack([probas[:,1], results])\n",
    "pred = np.mean(results, axis=1)"
   ]
  },
  {
   "cell_type": "code",
   "execution_count": 31,
   "metadata": {
    "collapsed": true
   },
   "outputs": [],
   "source": [
    "submission = pd.DataFrame({\"ID\":test_id, \"TARGET\": pred})\n",
    "submission.to_csv(\"submission_stack_xgb.csv\", index=False)"
   ]
  },
  {
   "cell_type": "code",
   "execution_count": null,
   "metadata": {
    "collapsed": true
   },
   "outputs": [],
   "source": []
  }
 ],
 "metadata": {
  "kernelspec": {
   "display_name": "Python 2",
   "language": "python",
   "name": "python2"
  },
  "language_info": {
   "codemirror_mode": {
    "name": "ipython",
    "version": 2
   },
   "file_extension": ".py",
   "mimetype": "text/x-python",
   "name": "python",
   "nbconvert_exporter": "python",
   "pygments_lexer": "ipython2",
   "version": "2.7.6"
  }
 },
 "nbformat": 4,
 "nbformat_minor": 0
}
