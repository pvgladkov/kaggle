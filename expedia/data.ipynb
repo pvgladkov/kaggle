{
 "cells": [
  {
   "cell_type": "code",
   "execution_count": 1,
   "metadata": {
    "collapsed": false
   },
   "outputs": [],
   "source": [
    "import pandas as pd\n",
    "import numpy as np\n",
    "\n",
    "import seaborn as sns\n",
    "sns.set(color_codes=True)\n",
    "\n",
    "import matplotlib.pyplot as plt\n",
    "%matplotlib inline"
   ]
  },
  {
   "cell_type": "code",
   "execution_count": 2,
   "metadata": {
    "collapsed": true
   },
   "outputs": [],
   "source": [
    "import os"
   ]
  },
  {
   "cell_type": "code",
   "execution_count": 5,
   "metadata": {
    "collapsed": true
   },
   "outputs": [],
   "source": [
    "data_dir = '/home/pavel/P/kaggle_data/expedia'"
   ]
  },
  {
   "cell_type": "code",
   "execution_count": 6,
   "metadata": {
    "collapsed": true
   },
   "outputs": [],
   "source": [
    "train_dtypes = {'site_name': np.int8, 'posa_continent': np.int8, \n",
    "                'user_location_country': np.int16, 'user_location_region': np.int16, \n",
    "                'user_location_city': np.int32, 'orig_destination_distance': np.float64, \n",
    "                'user_id': np.int32, 'is_mobile': np.bool, 'is_package': np.bool,\n",
    "                'channel': np.int8, 'srch_adults_cnt': np.int8, 'srch_children_cnt': np.int8,\n",
    "                'srch_rm_cnt': np.int8, 'srch_destination_id': np.int32, \n",
    "                'srch_destination_type_id': np.int8, 'is_booking': np.bool, \n",
    "                'cnt': np.int16, 'hotel_continent': np.int8, 'hotel_country': np.int16, \n",
    "                'hotel_market': np.int16, 'hotel_cluster': np.int8}"
   ]
  },
  {
   "cell_type": "code",
   "execution_count": 7,
   "metadata": {
    "collapsed": false
   },
   "outputs": [],
   "source": [
    "train = pd.read_csv(os.path.join(data_dir, 'train_booking.csv'), dtype=train_dtypes)\n",
    "# test = pd.read_csv(os.path.join(data_dir, 'test.csv'))\n",
    "# destinations = pd.read_csv(os.path.join(data_dir, 'destinations.csv'))"
   ]
  },
  {
   "cell_type": "code",
   "execution_count": 5,
   "metadata": {
    "collapsed": false,
    "scrolled": true
   },
   "outputs": [
    {
     "data": {
      "text/html": [
       "<div>\n",
       "<table border=\"1\" class=\"dataframe\">\n",
       "  <thead>\n",
       "    <tr style=\"text-align: right;\">\n",
       "      <th></th>\n",
       "      <th>date_time</th>\n",
       "      <th>site_name</th>\n",
       "      <th>posa_continent</th>\n",
       "      <th>user_location_country</th>\n",
       "      <th>user_location_region</th>\n",
       "      <th>user_location_city</th>\n",
       "      <th>orig_destination_distance</th>\n",
       "      <th>user_id</th>\n",
       "      <th>is_mobile</th>\n",
       "      <th>is_package</th>\n",
       "      <th>...</th>\n",
       "      <th>srch_children_cnt</th>\n",
       "      <th>srch_rm_cnt</th>\n",
       "      <th>srch_destination_id</th>\n",
       "      <th>srch_destination_type_id</th>\n",
       "      <th>is_booking</th>\n",
       "      <th>cnt</th>\n",
       "      <th>hotel_continent</th>\n",
       "      <th>hotel_country</th>\n",
       "      <th>hotel_market</th>\n",
       "      <th>hotel_cluster</th>\n",
       "    </tr>\n",
       "  </thead>\n",
       "  <tbody>\n",
       "    <tr>\n",
       "      <th>0</th>\n",
       "      <td>2014-08-11 07:46:59</td>\n",
       "      <td>2</td>\n",
       "      <td>3</td>\n",
       "      <td>66</td>\n",
       "      <td>348</td>\n",
       "      <td>48862</td>\n",
       "      <td>2234.2641</td>\n",
       "      <td>12</td>\n",
       "      <td>0</td>\n",
       "      <td>1</td>\n",
       "      <td>...</td>\n",
       "      <td>0</td>\n",
       "      <td>1</td>\n",
       "      <td>8250</td>\n",
       "      <td>1</td>\n",
       "      <td>0</td>\n",
       "      <td>3</td>\n",
       "      <td>2</td>\n",
       "      <td>50</td>\n",
       "      <td>628</td>\n",
       "      <td>1</td>\n",
       "    </tr>\n",
       "    <tr>\n",
       "      <th>1</th>\n",
       "      <td>2014-08-11 08:22:12</td>\n",
       "      <td>2</td>\n",
       "      <td>3</td>\n",
       "      <td>66</td>\n",
       "      <td>348</td>\n",
       "      <td>48862</td>\n",
       "      <td>2234.2641</td>\n",
       "      <td>12</td>\n",
       "      <td>0</td>\n",
       "      <td>1</td>\n",
       "      <td>...</td>\n",
       "      <td>0</td>\n",
       "      <td>1</td>\n",
       "      <td>8250</td>\n",
       "      <td>1</td>\n",
       "      <td>1</td>\n",
       "      <td>1</td>\n",
       "      <td>2</td>\n",
       "      <td>50</td>\n",
       "      <td>628</td>\n",
       "      <td>1</td>\n",
       "    </tr>\n",
       "    <tr>\n",
       "      <th>2</th>\n",
       "      <td>2014-08-11 08:24:33</td>\n",
       "      <td>2</td>\n",
       "      <td>3</td>\n",
       "      <td>66</td>\n",
       "      <td>348</td>\n",
       "      <td>48862</td>\n",
       "      <td>2234.2641</td>\n",
       "      <td>12</td>\n",
       "      <td>0</td>\n",
       "      <td>0</td>\n",
       "      <td>...</td>\n",
       "      <td>0</td>\n",
       "      <td>1</td>\n",
       "      <td>8250</td>\n",
       "      <td>1</td>\n",
       "      <td>0</td>\n",
       "      <td>1</td>\n",
       "      <td>2</td>\n",
       "      <td>50</td>\n",
       "      <td>628</td>\n",
       "      <td>1</td>\n",
       "    </tr>\n",
       "    <tr>\n",
       "      <th>3</th>\n",
       "      <td>2014-08-09 18:05:16</td>\n",
       "      <td>2</td>\n",
       "      <td>3</td>\n",
       "      <td>66</td>\n",
       "      <td>442</td>\n",
       "      <td>35390</td>\n",
       "      <td>913.1932</td>\n",
       "      <td>93</td>\n",
       "      <td>0</td>\n",
       "      <td>0</td>\n",
       "      <td>...</td>\n",
       "      <td>0</td>\n",
       "      <td>1</td>\n",
       "      <td>14984</td>\n",
       "      <td>1</td>\n",
       "      <td>0</td>\n",
       "      <td>1</td>\n",
       "      <td>2</td>\n",
       "      <td>50</td>\n",
       "      <td>1457</td>\n",
       "      <td>80</td>\n",
       "    </tr>\n",
       "    <tr>\n",
       "      <th>4</th>\n",
       "      <td>2014-08-09 18:08:18</td>\n",
       "      <td>2</td>\n",
       "      <td>3</td>\n",
       "      <td>66</td>\n",
       "      <td>442</td>\n",
       "      <td>35390</td>\n",
       "      <td>913.6259</td>\n",
       "      <td>93</td>\n",
       "      <td>0</td>\n",
       "      <td>0</td>\n",
       "      <td>...</td>\n",
       "      <td>0</td>\n",
       "      <td>1</td>\n",
       "      <td>14984</td>\n",
       "      <td>1</td>\n",
       "      <td>0</td>\n",
       "      <td>1</td>\n",
       "      <td>2</td>\n",
       "      <td>50</td>\n",
       "      <td>1457</td>\n",
       "      <td>21</td>\n",
       "    </tr>\n",
       "  </tbody>\n",
       "</table>\n",
       "<p>5 rows × 24 columns</p>\n",
       "</div>"
      ],
      "text/plain": [
       "             date_time  site_name  posa_continent  user_location_country  \\\n",
       "0  2014-08-11 07:46:59          2               3                     66   \n",
       "1  2014-08-11 08:22:12          2               3                     66   \n",
       "2  2014-08-11 08:24:33          2               3                     66   \n",
       "3  2014-08-09 18:05:16          2               3                     66   \n",
       "4  2014-08-09 18:08:18          2               3                     66   \n",
       "\n",
       "   user_location_region  user_location_city  orig_destination_distance  \\\n",
       "0                   348               48862                  2234.2641   \n",
       "1                   348               48862                  2234.2641   \n",
       "2                   348               48862                  2234.2641   \n",
       "3                   442               35390                   913.1932   \n",
       "4                   442               35390                   913.6259   \n",
       "\n",
       "   user_id  is_mobile  is_package      ...        srch_children_cnt  \\\n",
       "0       12          0           1      ...                        0   \n",
       "1       12          0           1      ...                        0   \n",
       "2       12          0           0      ...                        0   \n",
       "3       93          0           0      ...                        0   \n",
       "4       93          0           0      ...                        0   \n",
       "\n",
       "  srch_rm_cnt srch_destination_id  srch_destination_type_id  is_booking  cnt  \\\n",
       "0           1                8250                         1           0    3   \n",
       "1           1                8250                         1           1    1   \n",
       "2           1                8250                         1           0    1   \n",
       "3           1               14984                         1           0    1   \n",
       "4           1               14984                         1           0    1   \n",
       "\n",
       "   hotel_continent  hotel_country  hotel_market  hotel_cluster  \n",
       "0                2             50           628              1  \n",
       "1                2             50           628              1  \n",
       "2                2             50           628              1  \n",
       "3                2             50          1457             80  \n",
       "4                2             50          1457             21  \n",
       "\n",
       "[5 rows x 24 columns]"
      ]
     },
     "execution_count": 5,
     "metadata": {},
     "output_type": "execute_result"
    }
   ],
   "source": [
    "train.head()"
   ]
  },
  {
   "cell_type": "code",
   "execution_count": 9,
   "metadata": {
    "collapsed": false
   },
   "outputs": [],
   "source": [
    "# test.head()"
   ]
  },
  {
   "cell_type": "code",
   "execution_count": 10,
   "metadata": {
    "collapsed": false
   },
   "outputs": [],
   "source": [
    "# destinations.head()"
   ]
  },
  {
   "cell_type": "markdown",
   "metadata": {},
   "source": [
    "### Посмотрим что за данные лежат в таблицах "
   ]
  },
  {
   "cell_type": "markdown",
   "metadata": {},
   "source": [
    "| Column name | Description | Data type |\n",
    "|--|--------------------------|\n",
    "| date_time | Timestamp | string |\n",
    "| site_name | ID of the Expedia point of sale (i.e. Expedia.com, Expedia.co.uk, Expedia.co.jp, ...) | \tint |\n",
    "| posa_continent | \tID of continent associated with site_name | \tint |\n",
    "| user_location_country | \tThe ID of the country the customer is located | \tint |\n",
    "| user_location_region | \tThe ID of the region the customer is located | \tint |\n",
    "| user_location_city | \tThe ID of the city the customer is located | \tint |\n",
    "| orig_destination_distance | \tPhysical distance between a hotel and a customer at the time of search. A null means the distance could not be calculated | \tdouble |\n",
    "| user_id | ID of user | \tint |\n",
    "| is_mobile | \t1 when a user connected from a mobile device, 0 otherwise | \ttinyint |\n",
    "| is_package | \t1 if the click/booking was generated as a part of a package (i.e. combined with a flight), 0 otherwise | int |\n",
    "| channel | \tID of a marketing channel | \tint |\n",
    "| srch_ci | \tCheckin date | \tstring |\n",
    "| srch_co | \tCheckout date | \tstring |\n",
    "| srch_adults_cnt | \tThe number of adults specified in the hotel room | \tint |\n",
    "| srch_children_cnt | \tThe number of (extra occupancy) children specified in the hotel room | \tint |\n",
    "| srch_rm_cnt | \tThe number of hotel rooms specified in the search | \tint |\n",
    "| srch_destination_id | \tID of the destination where the hotel search was performed | \tint |\n",
    "| srch_destination_type_id | \tType of destination | \tint |\n",
    "| hotel_continent | \tHotel continent | \tint |\n",
    "| hotel_country | \tHotel country | \tint |\n",
    "| hotel_market | \tHotel market | \tint |\n",
    "| is_booking | \t1 if a booking, 0 if a click | \ttinyint |\n",
    "| cnt | \tNumer of similar events in the context of the same user session | \tbigint |\n",
    "| hotel_cluster | ID of a hotel cluster | int |"
   ]
  },
  {
   "cell_type": "code",
   "execution_count": 9,
   "metadata": {
    "collapsed": false,
    "scrolled": false
   },
   "outputs": [
    {
     "data": {
      "text/html": [
       "<div>\n",
       "<table border=\"1\" class=\"dataframe\">\n",
       "  <thead>\n",
       "    <tr style=\"text-align: right;\">\n",
       "      <th></th>\n",
       "      <th>site_name</th>\n",
       "      <th>posa_continent</th>\n",
       "      <th>user_location_country</th>\n",
       "      <th>user_location_region</th>\n",
       "      <th>user_location_city</th>\n",
       "      <th>orig_destination_distance</th>\n",
       "      <th>user_id</th>\n",
       "      <th>is_mobile</th>\n",
       "      <th>is_package</th>\n",
       "      <th>channel</th>\n",
       "      <th>...</th>\n",
       "      <th>srch_children_cnt</th>\n",
       "      <th>srch_rm_cnt</th>\n",
       "      <th>srch_destination_id</th>\n",
       "      <th>srch_destination_type_id</th>\n",
       "      <th>is_booking</th>\n",
       "      <th>cnt</th>\n",
       "      <th>hotel_continent</th>\n",
       "      <th>hotel_country</th>\n",
       "      <th>hotel_market</th>\n",
       "      <th>hotel_cluster</th>\n",
       "    </tr>\n",
       "  </thead>\n",
       "  <tbody>\n",
       "    <tr>\n",
       "      <th>count</th>\n",
       "      <td>3.000693e+06</td>\n",
       "      <td>3.000693e+06</td>\n",
       "      <td>3.000693e+06</td>\n",
       "      <td>3.000693e+06</td>\n",
       "      <td>3.000693e+06</td>\n",
       "      <td>1.985514e+06</td>\n",
       "      <td>3.000693e+06</td>\n",
       "      <td>3.000693e+06</td>\n",
       "      <td>3.000693e+06</td>\n",
       "      <td>3.000693e+06</td>\n",
       "      <td>...</td>\n",
       "      <td>3.000693e+06</td>\n",
       "      <td>3.000693e+06</td>\n",
       "      <td>3.000693e+06</td>\n",
       "      <td>3.000693e+06</td>\n",
       "      <td>3000693.0</td>\n",
       "      <td>3.000693e+06</td>\n",
       "      <td>3.000693e+06</td>\n",
       "      <td>3.000693e+06</td>\n",
       "      <td>3.000693e+06</td>\n",
       "      <td>3.000693e+06</td>\n",
       "    </tr>\n",
       "    <tr>\n",
       "      <th>mean</th>\n",
       "      <td>9.373060e+00</td>\n",
       "      <td>2.705199e+00</td>\n",
       "      <td>8.762437e+01</td>\n",
       "      <td>3.129063e+02</td>\n",
       "      <td>2.788012e+04</td>\n",
       "      <td>1.688682e+03</td>\n",
       "      <td>6.066209e+05</td>\n",
       "      <td>9.921275e-02</td>\n",
       "      <td>1.366978e-01</td>\n",
       "      <td>6.179528e+00</td>\n",
       "      <td>...</td>\n",
       "      <td>2.767444e-01</td>\n",
       "      <td>1.129579e+00</td>\n",
       "      <td>1.537985e+04</td>\n",
       "      <td>2.878473e+00</td>\n",
       "      <td>1.0</td>\n",
       "      <td>1.015258e+00</td>\n",
       "      <td>3.012147e+00</td>\n",
       "      <td>8.054304e+01</td>\n",
       "      <td>6.212616e+02</td>\n",
       "      <td>4.769069e+01</td>\n",
       "    </tr>\n",
       "    <tr>\n",
       "      <th>std</th>\n",
       "      <td>1.191513e+01</td>\n",
       "      <td>7.296438e-01</td>\n",
       "      <td>5.901820e+01</td>\n",
       "      <td>2.044980e+02</td>\n",
       "      <td>1.673100e+04</td>\n",
       "      <td>2.157340e+03</td>\n",
       "      <td>3.493174e+05</td>\n",
       "      <td>2.989475e-01</td>\n",
       "      <td>3.435280e-01</td>\n",
       "      <td>3.610034e+00</td>\n",
       "      <td>...</td>\n",
       "      <td>6.556351e-01</td>\n",
       "      <td>4.786223e-01</td>\n",
       "      <td>1.163909e+04</td>\n",
       "      <td>2.210588e+00</td>\n",
       "      <td>0.0</td>\n",
       "      <td>1.436803e-01</td>\n",
       "      <td>1.619683e+00</td>\n",
       "      <td>5.491476e+01</td>\n",
       "      <td>4.921910e+02</td>\n",
       "      <td>2.903937e+01</td>\n",
       "    </tr>\n",
       "    <tr>\n",
       "      <th>min</th>\n",
       "      <td>2.000000e+00</td>\n",
       "      <td>0.000000e+00</td>\n",
       "      <td>0.000000e+00</td>\n",
       "      <td>0.000000e+00</td>\n",
       "      <td>0.000000e+00</td>\n",
       "      <td>5.600000e-03</td>\n",
       "      <td>5.000000e+00</td>\n",
       "      <td>0.000000e+00</td>\n",
       "      <td>0.000000e+00</td>\n",
       "      <td>0.000000e+00</td>\n",
       "      <td>...</td>\n",
       "      <td>0.000000e+00</td>\n",
       "      <td>0.000000e+00</td>\n",
       "      <td>1.000000e+00</td>\n",
       "      <td>0.000000e+00</td>\n",
       "      <td>1.0</td>\n",
       "      <td>1.000000e+00</td>\n",
       "      <td>0.000000e+00</td>\n",
       "      <td>0.000000e+00</td>\n",
       "      <td>0.000000e+00</td>\n",
       "      <td>0.000000e+00</td>\n",
       "    </tr>\n",
       "    <tr>\n",
       "      <th>25%</th>\n",
       "      <td>2.000000e+00</td>\n",
       "      <td>3.000000e+00</td>\n",
       "      <td>6.600000e+01</td>\n",
       "      <td>1.740000e+02</td>\n",
       "      <td>1.340000e+04</td>\n",
       "      <td>2.192807e+02</td>\n",
       "      <td>3.047260e+05</td>\n",
       "      <td>0.000000e+00</td>\n",
       "      <td>0.000000e+00</td>\n",
       "      <td>2.000000e+00</td>\n",
       "      <td>...</td>\n",
       "      <td>0.000000e+00</td>\n",
       "      <td>1.000000e+00</td>\n",
       "      <td>8.262000e+03</td>\n",
       "      <td>1.000000e+00</td>\n",
       "      <td>1.0</td>\n",
       "      <td>1.000000e+00</td>\n",
       "      <td>2.000000e+00</td>\n",
       "      <td>5.000000e+01</td>\n",
       "      <td>2.450000e+02</td>\n",
       "      <td>2.200000e+01</td>\n",
       "    </tr>\n",
       "    <tr>\n",
       "      <th>50%</th>\n",
       "      <td>2.000000e+00</td>\n",
       "      <td>3.000000e+00</td>\n",
       "      <td>6.600000e+01</td>\n",
       "      <td>3.140000e+02</td>\n",
       "      <td>2.765500e+04</td>\n",
       "      <td>8.057841e+02</td>\n",
       "      <td>6.068950e+05</td>\n",
       "      <td>0.000000e+00</td>\n",
       "      <td>0.000000e+00</td>\n",
       "      <td>9.000000e+00</td>\n",
       "      <td>...</td>\n",
       "      <td>0.000000e+00</td>\n",
       "      <td>1.000000e+00</td>\n",
       "      <td>1.192200e+04</td>\n",
       "      <td>1.000000e+00</td>\n",
       "      <td>1.0</td>\n",
       "      <td>1.000000e+00</td>\n",
       "      <td>2.000000e+00</td>\n",
       "      <td>5.000000e+01</td>\n",
       "      <td>6.280000e+02</td>\n",
       "      <td>4.700000e+01</td>\n",
       "    </tr>\n",
       "    <tr>\n",
       "      <th>75%</th>\n",
       "      <td>1.100000e+01</td>\n",
       "      <td>3.000000e+00</td>\n",
       "      <td>6.900000e+01</td>\n",
       "      <td>3.950000e+02</td>\n",
       "      <td>4.250000e+04</td>\n",
       "      <td>2.227812e+03</td>\n",
       "      <td>9.101020e+05</td>\n",
       "      <td>0.000000e+00</td>\n",
       "      <td>0.000000e+00</td>\n",
       "      <td>9.000000e+00</td>\n",
       "      <td>...</td>\n",
       "      <td>0.000000e+00</td>\n",
       "      <td>1.000000e+00</td>\n",
       "      <td>2.185500e+04</td>\n",
       "      <td>6.000000e+00</td>\n",
       "      <td>1.0</td>\n",
       "      <td>1.000000e+00</td>\n",
       "      <td>4.000000e+00</td>\n",
       "      <td>1.050000e+02</td>\n",
       "      <td>7.140000e+02</td>\n",
       "      <td>7.200000e+01</td>\n",
       "    </tr>\n",
       "    <tr>\n",
       "      <th>max</th>\n",
       "      <td>5.300000e+01</td>\n",
       "      <td>4.000000e+00</td>\n",
       "      <td>2.390000e+02</td>\n",
       "      <td>1.027000e+03</td>\n",
       "      <td>5.650700e+04</td>\n",
       "      <td>1.219917e+04</td>\n",
       "      <td>1.198784e+06</td>\n",
       "      <td>1.000000e+00</td>\n",
       "      <td>1.000000e+00</td>\n",
       "      <td>1.000000e+01</td>\n",
       "      <td>...</td>\n",
       "      <td>9.000000e+00</td>\n",
       "      <td>8.000000e+00</td>\n",
       "      <td>6.510400e+04</td>\n",
       "      <td>9.000000e+00</td>\n",
       "      <td>1.0</td>\n",
       "      <td>2.100000e+01</td>\n",
       "      <td>6.000000e+00</td>\n",
       "      <td>2.120000e+02</td>\n",
       "      <td>2.117000e+03</td>\n",
       "      <td>9.900000e+01</td>\n",
       "    </tr>\n",
       "  </tbody>\n",
       "</table>\n",
       "<p>8 rows × 21 columns</p>\n",
       "</div>"
      ],
      "text/plain": [
       "          site_name  posa_continent  user_location_country  \\\n",
       "count  3.000693e+06    3.000693e+06           3.000693e+06   \n",
       "mean   9.373060e+00    2.705199e+00           8.762437e+01   \n",
       "std    1.191513e+01    7.296438e-01           5.901820e+01   \n",
       "min    2.000000e+00    0.000000e+00           0.000000e+00   \n",
       "25%    2.000000e+00    3.000000e+00           6.600000e+01   \n",
       "50%    2.000000e+00    3.000000e+00           6.600000e+01   \n",
       "75%    1.100000e+01    3.000000e+00           6.900000e+01   \n",
       "max    5.300000e+01    4.000000e+00           2.390000e+02   \n",
       "\n",
       "       user_location_region  user_location_city  orig_destination_distance  \\\n",
       "count          3.000693e+06        3.000693e+06               1.985514e+06   \n",
       "mean           3.129063e+02        2.788012e+04               1.688682e+03   \n",
       "std            2.044980e+02        1.673100e+04               2.157340e+03   \n",
       "min            0.000000e+00        0.000000e+00               5.600000e-03   \n",
       "25%            1.740000e+02        1.340000e+04               2.192807e+02   \n",
       "50%            3.140000e+02        2.765500e+04               8.057841e+02   \n",
       "75%            3.950000e+02        4.250000e+04               2.227812e+03   \n",
       "max            1.027000e+03        5.650700e+04               1.219917e+04   \n",
       "\n",
       "            user_id     is_mobile    is_package       channel      ...        \\\n",
       "count  3.000693e+06  3.000693e+06  3.000693e+06  3.000693e+06      ...         \n",
       "mean   6.066209e+05  9.921275e-02  1.366978e-01  6.179528e+00      ...         \n",
       "std    3.493174e+05  2.989475e-01  3.435280e-01  3.610034e+00      ...         \n",
       "min    5.000000e+00  0.000000e+00  0.000000e+00  0.000000e+00      ...         \n",
       "25%    3.047260e+05  0.000000e+00  0.000000e+00  2.000000e+00      ...         \n",
       "50%    6.068950e+05  0.000000e+00  0.000000e+00  9.000000e+00      ...         \n",
       "75%    9.101020e+05  0.000000e+00  0.000000e+00  9.000000e+00      ...         \n",
       "max    1.198784e+06  1.000000e+00  1.000000e+00  1.000000e+01      ...         \n",
       "\n",
       "       srch_children_cnt   srch_rm_cnt  srch_destination_id  \\\n",
       "count       3.000693e+06  3.000693e+06         3.000693e+06   \n",
       "mean        2.767444e-01  1.129579e+00         1.537985e+04   \n",
       "std         6.556351e-01  4.786223e-01         1.163909e+04   \n",
       "min         0.000000e+00  0.000000e+00         1.000000e+00   \n",
       "25%         0.000000e+00  1.000000e+00         8.262000e+03   \n",
       "50%         0.000000e+00  1.000000e+00         1.192200e+04   \n",
       "75%         0.000000e+00  1.000000e+00         2.185500e+04   \n",
       "max         9.000000e+00  8.000000e+00         6.510400e+04   \n",
       "\n",
       "       srch_destination_type_id  is_booking           cnt  hotel_continent  \\\n",
       "count              3.000693e+06   3000693.0  3.000693e+06     3.000693e+06   \n",
       "mean               2.878473e+00         1.0  1.015258e+00     3.012147e+00   \n",
       "std                2.210588e+00         0.0  1.436803e-01     1.619683e+00   \n",
       "min                0.000000e+00         1.0  1.000000e+00     0.000000e+00   \n",
       "25%                1.000000e+00         1.0  1.000000e+00     2.000000e+00   \n",
       "50%                1.000000e+00         1.0  1.000000e+00     2.000000e+00   \n",
       "75%                6.000000e+00         1.0  1.000000e+00     4.000000e+00   \n",
       "max                9.000000e+00         1.0  2.100000e+01     6.000000e+00   \n",
       "\n",
       "       hotel_country  hotel_market  hotel_cluster  \n",
       "count   3.000693e+06  3.000693e+06   3.000693e+06  \n",
       "mean    8.054304e+01  6.212616e+02   4.769069e+01  \n",
       "std     5.491476e+01  4.921910e+02   2.903937e+01  \n",
       "min     0.000000e+00  0.000000e+00   0.000000e+00  \n",
       "25%     5.000000e+01  2.450000e+02   2.200000e+01  \n",
       "50%     5.000000e+01  6.280000e+02   4.700000e+01  \n",
       "75%     1.050000e+02  7.140000e+02   7.200000e+01  \n",
       "max     2.120000e+02  2.117000e+03   9.900000e+01  \n",
       "\n",
       "[8 rows x 21 columns]"
      ]
     },
     "execution_count": 9,
     "metadata": {},
     "output_type": "execute_result"
    }
   ],
   "source": [
    "train.describe()"
   ]
  },
  {
   "cell_type": "markdown",
   "metadata": {},
   "source": [
    "#### Соотношение кликов и бронирования"
   ]
  },
  {
   "cell_type": "code",
   "execution_count": 10,
   "metadata": {
    "collapsed": false
   },
   "outputs": [
    {
     "data": {
      "text/plain": [
       "<matplotlib.axes._subplots.AxesSubplot at 0x7f2a3cf85d50>"
      ]
     },
     "execution_count": 10,
     "metadata": {},
     "output_type": "execute_result"
    },
    {
     "data": {
      "image/png": "[encoded data removed]",
      "text/plain": [
       "<matplotlib.figure.Figure at 0x7f2a4aafd3d0>"
      ]
     },
     "metadata": {},
     "output_type": "display_data"
    }
   ],
   "source": [
    "sns.countplot(x='is_booking', data=train)"
   ]
  },
  {
   "cell_type": "markdown",
   "metadata": {},
   "source": [
    "#### Отели по континентам"
   ]
  },
  {
   "cell_type": "code",
   "execution_count": 11,
   "metadata": {
    "collapsed": false
   },
   "outputs": [
    {
     "data": {
      "text/plain": [
       "<matplotlib.axes._subplots.AxesSubplot at 0x7f2a383eae50>"
      ]
     },
     "execution_count": 11,
     "metadata": {},
     "output_type": "execute_result"
    },
    {
     "data": {
      "image/png": "[encoded data removed]",
      "text/plain": [
       "<matplotlib.figure.Figure at 0x7f2a4aafd250>"
      ]
     },
     "metadata": {},
     "output_type": "display_data"
    }
   ],
   "source": [
    "sns.countplot(x='hotel_continent', data=train)"
   ]
  },
  {
   "cell_type": "code",
   "execution_count": 14,
   "metadata": {
    "collapsed": false
   },
   "outputs": [
    {
     "data": {
      "text/plain": [
       "<matplotlib.axes._subplots.AxesSubplot at 0x7f22aa93fa10>"
      ]
     },
     "execution_count": 14,
     "metadata": {},
     "output_type": "execute_result"
    },
    {
     "data": {
      "image/png": "[encoded data removed]",
      "text/plain": [
       "<matplotlib.figure.Figure at 0x7f23082dbdd0>"
      ]
     },
     "metadata": {},
     "output_type": "display_data"
    }
   ],
   "source": [
    "sns.countplot(x='hotel_continent', data=train[train['is_booking']==1])"
   ]
  },
  {
   "cell_type": "markdown",
   "metadata": {},
   "source": [
    "#### Отели по странам"
   ]
  },
  {
   "cell_type": "code",
   "execution_count": 12,
   "metadata": {
    "collapsed": false
   },
   "outputs": [
    {
     "data": {
      "text/plain": [
       "<matplotlib.axes._subplots.AxesSubplot at 0x7f2a3835cb10>"
      ]
     },
     "execution_count": 12,
     "metadata": {},
     "output_type": "execute_result"
    },
    {
     "data": {
      "image/png": "[encoded data removed]",
      "text/plain": [
       "<matplotlib.figure.Figure at 0x7f2a38375610>"
      ]
     },
     "metadata": {},
     "output_type": "display_data"
    }
   ],
   "source": [
    "# топ-40\n",
    "train.pivot_table('is_booking', 'hotel_country', aggfunc='count')\\\n",
    "    .sort_values(ascending=False)\\\n",
    "    .head(40)\\\n",
    "    .plot(kind='bar', figsize=(15,5))"
   ]
  },
  {
   "cell_type": "code",
   "execution_count": 13,
   "metadata": {
    "collapsed": false
   },
   "outputs": [
    {
     "data": {
      "text/plain": [
       "<matplotlib.axes._subplots.AxesSubplot at 0x7f2a380f2290>"
      ]
     },
     "execution_count": 13,
     "metadata": {},
     "output_type": "execute_result"
    },
    {
     "data": {
      "image/png": "[encoded data removed]",
      "text/plain": [
       "<matplotlib.figure.Figure at 0x7f2a381aaa90>"
      ]
     },
     "metadata": {},
     "output_type": "display_data"
    }
   ],
   "source": [
    "# топ-40\n",
    "train[train['is_booking']==1].pivot_table('is_booking', 'hotel_country', aggfunc='count')\\\n",
    "    .sort_values(ascending=False)\\\n",
    "    .head(40)\\\n",
    "    .plot(kind='bar', figsize=(15,5))"
   ]
  },
  {
   "cell_type": "markdown",
   "metadata": {},
   "source": [
    "#### Кластеры"
   ]
  },
  {
   "cell_type": "code",
   "execution_count": 14,
   "metadata": {
    "collapsed": false
   },
   "outputs": [
    {
     "data": {
      "text/plain": [
       "<matplotlib.axes._subplots.AxesSubplot at 0x7f2a37f7ff50>"
      ]
     },
     "execution_count": 14,
     "metadata": {},
     "output_type": "execute_result"
    },
    {
     "data": {
      "image/png": "[encoded data removed]",
      "text/plain": [
       "<matplotlib.figure.Figure at 0x7f2a38375190>"
      ]
     },
     "metadata": {},
     "output_type": "display_data"
    }
   ],
   "source": [
    "train.pivot_table('is_booking', 'hotel_cluster', aggfunc='count')\\\n",
    "    .sort_values(ascending=False)\\\n",
    "    .plot(kind='bar', figsize=(15,5))"
   ]
  },
  {
   "cell_type": "code",
   "execution_count": 15,
   "metadata": {
    "collapsed": false
   },
   "outputs": [
    {
     "data": {
      "text/plain": [
       "<matplotlib.axes._subplots.AxesSubplot at 0x7f2a37ca0750>"
      ]
     },
     "execution_count": 15,
     "metadata": {},
     "output_type": "execute_result"
    },
    {
     "data": {
      "image/png": "[encoded data removed]",
      "text/plain": [
       "<matplotlib.figure.Figure at 0x7f2a37ce4ad0>"
      ]
     },
     "metadata": {},
     "output_type": "display_data"
    }
   ],
   "source": [
    "train[train['is_booking']==1].pivot_table('is_booking', 'hotel_cluster', aggfunc='count')\\\n",
    "    .sort_values(ascending=False)\\\n",
    "    .plot(kind='bar', figsize=(15,5))"
   ]
  },
  {
   "cell_type": "code",
   "execution_count": 16,
   "metadata": {
    "collapsed": false
   },
   "outputs": [
    {
     "data": {
      "text/plain": [
       "<matplotlib.axes._subplots.AxesSubplot at 0x7f2a375ac150>"
      ]
     },
     "execution_count": 16,
     "metadata": {},
     "output_type": "execute_result"
    },
    {
     "data": {
      "image/png": "[encoded data removed]",
      "text/plain": [
       "<matplotlib.figure.Figure at 0x7f2a375e9850>"
      ]
     },
     "metadata": {},
     "output_type": "display_data"
    }
   ],
   "source": [
    "train[(train['is_booking']==1) & (train['hotel_country']==50)]\\\n",
    "    .pivot_table('is_booking', 'hotel_cluster', aggfunc='count')\\\n",
    "    .sort_values(ascending=False)\\\n",
    "    .plot(kind='bar', figsize=(15,5))"
   ]
  },
  {
   "cell_type": "code",
   "execution_count": 17,
   "metadata": {
    "collapsed": false
   },
   "outputs": [
    {
     "data": {
      "text/plain": [
       "<matplotlib.axes._subplots.AxesSubplot at 0x7f2a3714e750>"
      ]
     },
     "execution_count": 17,
     "metadata": {},
     "output_type": "execute_result"
    },
    {
     "data": {
      "image/png": "[encoded data removed]",
      "text/plain": [
       "<matplotlib.figure.Figure at 0x7f2a37359b50>"
      ]
     },
     "metadata": {},
     "output_type": "display_data"
    }
   ],
   "source": [
    "train[(train['is_booking']==1) & (train['hotel_cluster']==91)]\\\n",
    "    .pivot_table('is_booking', 'hotel_country', aggfunc='count')\\\n",
    "    .sort_values(ascending=False)\\\n",
    "    .plot(kind='bar', figsize=(15,5))"
   ]
  },
  {
   "cell_type": "markdown",
   "metadata": {},
   "source": [
    "#### Кол-во кластеров по site_name"
   ]
  },
  {
   "cell_type": "code",
   "execution_count": 20,
   "metadata": {
    "collapsed": false
   },
   "outputs": [
    {
     "data": {
      "text/plain": [
       "<matplotlib.axes._subplots.AxesSubplot at 0x7f2a2c40bc50>"
      ]
     },
     "execution_count": 20,
     "metadata": {},
     "output_type": "execute_result"
    },
    {
     "data": {
      "image/png": "[encoded data removed]",
      "text/plain": [
       "<matplotlib.figure.Figure at 0x7f2a2c49c4d0>"
      ]
     },
     "metadata": {},
     "output_type": "display_data"
    }
   ],
   "source": [
    "all_sites = train.site_name.unique()\n",
    "res = []\n",
    "for _site in all_sites:\n",
    "    res.append({'count':train[train['site_name']==_site].hotel_cluster.unique().shape[0], 'site': _site})\n",
    "pd.DataFrame(res).plot(kind='bar', figsize={15, 7}, x='site', y='count')"
   ]
  },
  {
   "cell_type": "markdown",
   "metadata": {},
   "source": [
    "#### Кол-во кластеров по user_location_country"
   ]
  },
  {
   "cell_type": "code",
   "execution_count": 21,
   "metadata": {
    "collapsed": false
   },
   "outputs": [
    {
     "data": {
      "text/plain": [
       "<matplotlib.axes._subplots.AxesSubplot at 0x7f2a2b878c90>"
      ]
     },
     "execution_count": 21,
     "metadata": {},
     "output_type": "execute_result"
    },
    {
     "data": {
      "image/png": "[encoded data removed]",
      "text/plain": [
       "<matplotlib.figure.Figure at 0x7f2a2b87e590>"
      ]
     },
     "metadata": {},
     "output_type": "display_data"
    }
   ],
   "source": [
    "all_c = train.user_location_country.unique()\n",
    "res = []\n",
    "for _c in all_c:\n",
    "    res.append({'count':train[train['user_location_country']==_c].hotel_cluster.unique().shape[0], 'loc': _c})\n",
    "pd.DataFrame(res).plot(kind='bar', figsize={15, 7}, x='loc', y='count')"
   ]
  },
  {
   "cell_type": "markdown",
   "metadata": {},
   "source": [
    "#### Проверим корреляцию между id кластера и его популярностью"
   ]
  },
  {
   "cell_type": "code",
   "execution_count": 22,
   "metadata": {
    "collapsed": false
   },
   "outputs": [
    {
     "data": {
      "text/plain": [
       "<seaborn.axisgrid.JointGrid at 0x7f2a383752d0>"
      ]
     },
     "execution_count": 22,
     "metadata": {},
     "output_type": "execute_result"
    },
    {
     "data": {
      "image/png": "[encoded data removed]",
      "text/plain": [
       "<matplotlib.figure.Figure at 0x7f2a2beb5490>"
      ]
     },
     "metadata": {},
     "output_type": "display_data"
    }
   ],
   "source": [
    "res = []\n",
    "all_c = train.hotel_cluster.unique()\n",
    "for cluster in all_c:\n",
    "    res.append({'cluster_id': cluster, 'count':train[(train['hotel_cluster']==cluster) & \n",
    "                                                     (train['is_booking']==1)].shape[0]})\n",
    "    \n",
    "_d = pd.DataFrame(res)\n",
    "sns.jointplot(x=_d['cluster_id'], y=_d['count'])"
   ]
  },
  {
   "cell_type": "markdown",
   "metadata": {},
   "source": [
    "#### Разобьем даты месяцы и годы"
   ]
  },
  {
   "cell_type": "code",
   "execution_count": 8,
   "metadata": {
    "collapsed": false
   },
   "outputs": [
    {
     "data": {
      "text/html": [
       "<div>\n",
       "<table border=\"1\" class=\"dataframe\">\n",
       "  <thead>\n",
       "    <tr style=\"text-align: right;\">\n",
       "      <th></th>\n",
       "      <th>srch_ci</th>\n",
       "      <th>srch_co</th>\n",
       "    </tr>\n",
       "  </thead>\n",
       "  <tbody>\n",
       "    <tr>\n",
       "      <th>0</th>\n",
       "      <td>2014-08-29</td>\n",
       "      <td>2014-09-02</td>\n",
       "    </tr>\n",
       "    <tr>\n",
       "      <th>1</th>\n",
       "      <td>2014-04-18</td>\n",
       "      <td>2014-04-20</td>\n",
       "    </tr>\n",
       "    <tr>\n",
       "      <th>2</th>\n",
       "      <td>2013-09-06</td>\n",
       "      <td>2013-09-14</td>\n",
       "    </tr>\n",
       "    <tr>\n",
       "      <th>3</th>\n",
       "      <td>2015-06-26</td>\n",
       "      <td>2015-06-28</td>\n",
       "    </tr>\n",
       "    <tr>\n",
       "      <th>4</th>\n",
       "      <td>2014-02-22</td>\n",
       "      <td>2014-02-27</td>\n",
       "    </tr>\n",
       "  </tbody>\n",
       "</table>\n",
       "</div>"
      ],
      "text/plain": [
       "      srch_ci     srch_co\n",
       "0  2014-08-29  2014-09-02\n",
       "1  2014-04-18  2014-04-20\n",
       "2  2013-09-06  2013-09-14\n",
       "3  2015-06-26  2015-06-28\n",
       "4  2014-02-22  2014-02-27"
      ]
     },
     "execution_count": 8,
     "metadata": {},
     "output_type": "execute_result"
    }
   ],
   "source": [
    "train[['srch_ci', 'srch_co']].head()"
   ]
  },
  {
   "cell_type": "code",
   "execution_count": 9,
   "metadata": {
    "collapsed": false
   },
   "outputs": [],
   "source": [
    "srch_ci = np.vstack(train.srch_ci.astype(str).apply(lambda x: list(map(int, x.split('-')))).values)\n",
    "train['ci_year'] = srch_ci[:,0]\n",
    "train['ci_month'] = srch_ci[:,1]\n",
    "train['ci_day'] = srch_ci[:,2]"
   ]
  },
  {
   "cell_type": "code",
   "execution_count": 10,
   "metadata": {
    "collapsed": true
   },
   "outputs": [],
   "source": [
    "srch_co = np.vstack(train.srch_co.astype(str).apply(lambda x: list(map(int, x.split('-')))).values)\n",
    "train['co_year'] = srch_co[:,0]\n",
    "train['co_month'] = srch_co[:,1]\n",
    "train['co_day'] = srch_co[:,2]"
   ]
  },
  {
   "cell_type": "code",
   "execution_count": 11,
   "metadata": {
    "collapsed": false
   },
   "outputs": [
    {
     "data": {
      "text/html": [
       "<div>\n",
       "<table border=\"1\" class=\"dataframe\">\n",
       "  <thead>\n",
       "    <tr style=\"text-align: right;\">\n",
       "      <th></th>\n",
       "      <th>date_time</th>\n",
       "      <th>site_name</th>\n",
       "      <th>posa_continent</th>\n",
       "      <th>user_location_country</th>\n",
       "      <th>user_location_region</th>\n",
       "      <th>user_location_city</th>\n",
       "      <th>orig_destination_distance</th>\n",
       "      <th>user_id</th>\n",
       "      <th>is_mobile</th>\n",
       "      <th>is_package</th>\n",
       "      <th>...</th>\n",
       "      <th>hotel_continent</th>\n",
       "      <th>hotel_country</th>\n",
       "      <th>hotel_market</th>\n",
       "      <th>hotel_cluster</th>\n",
       "      <th>ci_year</th>\n",
       "      <th>ci_month</th>\n",
       "      <th>ci_day</th>\n",
       "      <th>co_year</th>\n",
       "      <th>co_month</th>\n",
       "      <th>co_day</th>\n",
       "    </tr>\n",
       "  </thead>\n",
       "  <tbody>\n",
       "    <tr>\n",
       "      <th>0</th>\n",
       "      <td>2014-08-11 08:22:12</td>\n",
       "      <td>2</td>\n",
       "      <td>3</td>\n",
       "      <td>66</td>\n",
       "      <td>348</td>\n",
       "      <td>48862</td>\n",
       "      <td>2234.2641</td>\n",
       "      <td>12</td>\n",
       "      <td>False</td>\n",
       "      <td>True</td>\n",
       "      <td>...</td>\n",
       "      <td>2</td>\n",
       "      <td>50</td>\n",
       "      <td>628</td>\n",
       "      <td>1</td>\n",
       "      <td>2014</td>\n",
       "      <td>8</td>\n",
       "      <td>29</td>\n",
       "      <td>2014</td>\n",
       "      <td>9</td>\n",
       "      <td>2</td>\n",
       "    </tr>\n",
       "    <tr>\n",
       "      <th>1</th>\n",
       "      <td>2014-02-27 18:01:32</td>\n",
       "      <td>2</td>\n",
       "      <td>3</td>\n",
       "      <td>66</td>\n",
       "      <td>318</td>\n",
       "      <td>52078</td>\n",
       "      <td>NaN</td>\n",
       "      <td>756</td>\n",
       "      <td>False</td>\n",
       "      <td>True</td>\n",
       "      <td>...</td>\n",
       "      <td>2</td>\n",
       "      <td>50</td>\n",
       "      <td>191</td>\n",
       "      <td>2</td>\n",
       "      <td>2014</td>\n",
       "      <td>4</td>\n",
       "      <td>18</td>\n",
       "      <td>2014</td>\n",
       "      <td>4</td>\n",
       "      <td>20</td>\n",
       "    </tr>\n",
       "    <tr>\n",
       "      <th>2</th>\n",
       "      <td>2013-06-15 15:38:05</td>\n",
       "      <td>30</td>\n",
       "      <td>4</td>\n",
       "      <td>195</td>\n",
       "      <td>548</td>\n",
       "      <td>56440</td>\n",
       "      <td>NaN</td>\n",
       "      <td>1048</td>\n",
       "      <td>False</td>\n",
       "      <td>True</td>\n",
       "      <td>...</td>\n",
       "      <td>0</td>\n",
       "      <td>185</td>\n",
       "      <td>185</td>\n",
       "      <td>58</td>\n",
       "      <td>2013</td>\n",
       "      <td>9</td>\n",
       "      <td>6</td>\n",
       "      <td>2013</td>\n",
       "      <td>9</td>\n",
       "      <td>14</td>\n",
       "    </tr>\n",
       "    <tr>\n",
       "      <th>3</th>\n",
       "      <td>2014-11-23 18:02:20</td>\n",
       "      <td>30</td>\n",
       "      <td>4</td>\n",
       "      <td>195</td>\n",
       "      <td>991</td>\n",
       "      <td>47725</td>\n",
       "      <td>NaN</td>\n",
       "      <td>1048</td>\n",
       "      <td>False</td>\n",
       "      <td>False</td>\n",
       "      <td>...</td>\n",
       "      <td>3</td>\n",
       "      <td>151</td>\n",
       "      <td>69</td>\n",
       "      <td>36</td>\n",
       "      <td>2015</td>\n",
       "      <td>6</td>\n",
       "      <td>26</td>\n",
       "      <td>2015</td>\n",
       "      <td>6</td>\n",
       "      <td>28</td>\n",
       "    </tr>\n",
       "    <tr>\n",
       "      <th>4</th>\n",
       "      <td>2014-01-03 16:30:17</td>\n",
       "      <td>2</td>\n",
       "      <td>3</td>\n",
       "      <td>66</td>\n",
       "      <td>462</td>\n",
       "      <td>41898</td>\n",
       "      <td>2454.8588</td>\n",
       "      <td>1482</td>\n",
       "      <td>False</td>\n",
       "      <td>True</td>\n",
       "      <td>...</td>\n",
       "      <td>2</td>\n",
       "      <td>50</td>\n",
       "      <td>680</td>\n",
       "      <td>95</td>\n",
       "      <td>2014</td>\n",
       "      <td>2</td>\n",
       "      <td>22</td>\n",
       "      <td>2014</td>\n",
       "      <td>2</td>\n",
       "      <td>27</td>\n",
       "    </tr>\n",
       "  </tbody>\n",
       "</table>\n",
       "<p>5 rows × 30 columns</p>\n",
       "</div>"
      ],
      "text/plain": [
       "             date_time  site_name  posa_continent  user_location_country  \\\n",
       "0  2014-08-11 08:22:12          2               3                     66   \n",
       "1  2014-02-27 18:01:32          2               3                     66   \n",
       "2  2013-06-15 15:38:05         30               4                    195   \n",
       "3  2014-11-23 18:02:20         30               4                    195   \n",
       "4  2014-01-03 16:30:17          2               3                     66   \n",
       "\n",
       "   user_location_region  user_location_city  orig_destination_distance  \\\n",
       "0                   348               48862                  2234.2641   \n",
       "1                   318               52078                        NaN   \n",
       "2                   548               56440                        NaN   \n",
       "3                   991               47725                        NaN   \n",
       "4                   462               41898                  2454.8588   \n",
       "\n",
       "   user_id is_mobile is_package   ...    hotel_continent hotel_country  \\\n",
       "0       12     False       True   ...                  2            50   \n",
       "1      756     False       True   ...                  2            50   \n",
       "2     1048     False       True   ...                  0           185   \n",
       "3     1048     False      False   ...                  3           151   \n",
       "4     1482     False       True   ...                  2            50   \n",
       "\n",
       "  hotel_market  hotel_cluster  ci_year  ci_month  ci_day  co_year co_month  \\\n",
       "0          628              1     2014         8      29     2014        9   \n",
       "1          191              2     2014         4      18     2014        4   \n",
       "2          185             58     2013         9       6     2013        9   \n",
       "3           69             36     2015         6      26     2015        6   \n",
       "4          680             95     2014         2      22     2014        2   \n",
       "\n",
       "   co_day  \n",
       "0       2  \n",
       "1      20  \n",
       "2      14  \n",
       "3      28  \n",
       "4      27  \n",
       "\n",
       "[5 rows x 30 columns]"
      ]
     },
     "execution_count": 11,
     "metadata": {},
     "output_type": "execute_result"
    }
   ],
   "source": [
    "train.head()"
   ]
  }
 ],
 "metadata": {
  "kernelspec": {
   "display_name": "Python 2",
   "language": "python",
   "name": "python2"
  },
  "language_info": {
   "codemirror_mode": {
    "name": "ipython",
    "version": 2
   },
   "file_extension": ".py",
   "mimetype": "text/x-python",
   "name": "python",
   "nbconvert_exporter": "python",
   "pygments_lexer": "ipython2",
   "version": "2.7.6"
  }
 },
 "nbformat": 4,
 "nbformat_minor": 0
}
